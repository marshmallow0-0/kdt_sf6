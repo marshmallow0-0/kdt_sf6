{
 "cells": [
  {
   "cell_type": "code",
   "execution_count": 17,
   "id": "c19fd049-258d-4351-a4af-8c25c3ec015e",
   "metadata": {},
   "outputs": [
    {
     "name": "stdout",
     "output_type": "stream",
     "text": [
      "동영상 재생이 완료되었습니다\n"
     ]
    }
   ],
   "source": [
    "import cv2;\n",
    "\n",
    "# 영상 가져와서 변수에 저장\n",
    "capture = cv2.VideoCapture(\"./source/bird.mp4\")\n",
    "\n",
    "# 영상 재생 \n",
    "while capture.isOpened():\n",
    "    ret, frame = capture.read()\n",
    "\n",
    "    if not ret:\n",
    "        print(\"동영상 재생이 완료되었습니다\")\n",
    "        break\n",
    "\n",
    "    cv2.imshow(\"bird\", frame)\n",
    "\n",
    "    # 25는 잠시대기 and 메모리 주소가 'q' 키이면 종료\n",
    "    if cv2.waitKey(25) & 0xFF == ord('q'):\n",
    "        break;\n",
    "\n",
    "# 캡쳐 객체 해제 - 창닫음\n",
    "capture.release()\n",
    "cv2.destroyAllWindows()"
   ]
  },
  {
   "cell_type": "code",
   "execution_count": null,
   "id": "3727646c-1821-44ca-ba04-2b7fb586113d",
   "metadata": {},
   "outputs": [],
   "source": []
  }
 ],
 "metadata": {
  "kernelspec": {
   "display_name": "Python 3 (ipykernel)",
   "language": "python",
   "name": "python3"
  },
  "language_info": {
   "codemirror_mode": {
    "name": "ipython",
    "version": 3
   },
   "file_extension": ".py",
   "mimetype": "text/x-python",
   "name": "python",
   "nbconvert_exporter": "python",
   "pygments_lexer": "ipython3",
   "version": "3.12.4"
  }
 },
 "nbformat": 4,
 "nbformat_minor": 5
}
