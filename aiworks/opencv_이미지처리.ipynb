{
 "cells": [
  {
   "cell_type": "code",
   "execution_count": 3,
   "id": "ac7412e1-5217-438a-b09e-99f735f2d6a7",
   "metadata": {},
   "outputs": [
    {
     "name": "stdout",
     "output_type": "stream",
     "text": [
      "Collecting opencv-python\n",
      "  Downloading opencv_python-4.10.0.84-cp37-abi3-win_amd64.whl.metadata (20 kB)\n",
      "Requirement already satisfied: numpy>=1.21.2 in c:\\users\\antidote21\\anaconda3\\lib\\site-packages (from opencv-python) (1.26.4)\n",
      "Downloading opencv_python-4.10.0.84-cp37-abi3-win_amd64.whl (38.8 MB)\n",
      "   ---------------------------------------- 0.0/38.8 MB ? eta -:--:--\n",
      "   ---------------------------------------- 0.0/38.8 MB ? eta -:--:--\n",
      "   ---------------------------------------- 0.1/38.8 MB 1.1 MB/s eta 0:00:35\n",
      "    --------------------------------------- 0.8/38.8 MB 7.0 MB/s eta 0:00:06\n",
      "   - -------------------------------------- 1.6/38.8 MB 10.1 MB/s eta 0:00:04\n",
      "   -- ------------------------------------- 2.4/38.8 MB 10.8 MB/s eta 0:00:04\n",
      "   --- ------------------------------------ 3.3/38.8 MB 13.1 MB/s eta 0:00:03\n",
      "   ---- ----------------------------------- 4.3/38.8 MB 14.6 MB/s eta 0:00:03\n",
      "   ----- ---------------------------------- 5.2/38.8 MB 15.2 MB/s eta 0:00:03\n",
      "   ------ --------------------------------- 6.2/38.8 MB 15.7 MB/s eta 0:00:03\n",
      "   ------- -------------------------------- 6.8/38.8 MB 15.5 MB/s eta 0:00:03\n",
      "   -------- ------------------------------- 8.2/38.8 MB 16.8 MB/s eta 0:00:02\n",
      "   --------- ------------------------------ 9.1/38.8 MB 17.6 MB/s eta 0:00:02\n",
      "   ---------- ----------------------------- 10.5/38.8 MB 21.1 MB/s eta 0:00:02\n",
      "   ------------ --------------------------- 11.8/38.8 MB 21.8 MB/s eta 0:00:02\n",
      "   ------------- -------------------------- 12.7/38.8 MB 22.6 MB/s eta 0:00:02\n",
      "   -------------- ------------------------- 14.0/38.8 MB 23.4 MB/s eta 0:00:02\n",
      "   --------------- ------------------------ 15.2/38.8 MB 24.2 MB/s eta 0:00:01\n",
      "   ---------------- ----------------------- 16.3/38.8 MB 24.2 MB/s eta 0:00:01\n",
      "   ----------------- ---------------------- 17.3/38.8 MB 25.1 MB/s eta 0:00:01\n",
      "   ------------------ --------------------- 18.3/38.8 MB 24.3 MB/s eta 0:00:01\n",
      "   -------------------- ------------------- 19.7/38.8 MB 25.2 MB/s eta 0:00:01\n",
      "   --------------------- ------------------ 20.9/38.8 MB 24.2 MB/s eta 0:00:01\n",
      "   ---------------------- ----------------- 22.1/38.8 MB 25.2 MB/s eta 0:00:01\n",
      "   ----------------------- ---------------- 23.2/38.8 MB 25.2 MB/s eta 0:00:01\n",
      "   ------------------------- -------------- 24.4/38.8 MB 25.2 MB/s eta 0:00:01\n",
      "   -------------------------- ------------- 25.4/38.8 MB 25.2 MB/s eta 0:00:01\n",
      "   --------------------------- ------------ 26.5/38.8 MB 25.2 MB/s eta 0:00:01\n",
      "   ---------------------------- ----------- 27.7/38.8 MB 26.2 MB/s eta 0:00:01\n",
      "   ----------------------------- ---------- 28.9/38.8 MB 25.1 MB/s eta 0:00:01\n",
      "   ------------------------------- -------- 30.1/38.8 MB 25.1 MB/s eta 0:00:01\n",
      "   -------------------------------- ------- 31.3/38.8 MB 25.2 MB/s eta 0:00:01\n",
      "   --------------------------------- ------ 32.5/38.8 MB 25.2 MB/s eta 0:00:01\n",
      "   ---------------------------------- ----- 33.1/38.8 MB 25.1 MB/s eta 0:00:01\n",
      "   ----------------------------------- ---- 34.3/38.8 MB 25.2 MB/s eta 0:00:01\n",
      "   ------------------------------------ --- 35.4/38.8 MB 25.2 MB/s eta 0:00:01\n",
      "   ------------------------------------- -- 36.5/38.8 MB 24.2 MB/s eta 0:00:01\n",
      "   -------------------------------------- - 37.7/38.8 MB 24.2 MB/s eta 0:00:01\n",
      "   ---------------------------------------  38.7/38.8 MB 23.4 MB/s eta 0:00:01\n",
      "   ---------------------------------------  38.8/38.8 MB 24.2 MB/s eta 0:00:01\n",
      "   ---------------------------------------- 38.8/38.8 MB 20.4 MB/s eta 0:00:00\n",
      "Installing collected packages: opencv-python\n",
      "Successfully installed opencv-python-4.10.0.84\n"
     ]
    }
   ],
   "source": [
    "!pip install opencv-python"
   ]
  },
  {
   "cell_type": "markdown",
   "id": "ae0468f3-20e5-40e2-848b-dee6e3a3756e",
   "metadata": {},
   "source": [
    "### 이미지 파일 읽어오기"
   ]
  },
  {
   "cell_type": "code",
   "execution_count": 8,
   "id": "c171da2a-c12d-4c5b-b0f1-a93f95061f00",
   "metadata": {
    "scrolled": true
   },
   "outputs": [
    {
     "ename": "NameError",
     "evalue": "name '파일' is not defined",
     "output_type": "error",
     "traceback": [
      "\u001b[1;31m---------------------------------------------------------------------------\u001b[0m",
      "\u001b[1;31mNameError\u001b[0m                                 Traceback (most recent call last)",
      "Cell \u001b[1;32mIn[8], line 13\u001b[0m\n\u001b[0;32m      6\u001b[0m \u001b[38;5;124;03m\"\"\"\u001b[39;00m\n\u001b[0;32m      7\u001b[0m \u001b[38;5;124;03mIMREAD_COLOR - 이미지를 컬러로 읽음(투명한 부분은 무시)\u001b[39;00m\n\u001b[0;32m      8\u001b[0m \u001b[38;5;124;03mIMREAD_GRAYSCALE - 이미지를 흑백으로 읽음\u001b[39;00m\n\u001b[0;32m      9\u001b[0m \u001b[38;5;124;03mIMREAD_UNCHANGED - 이미지를 컬러로 읽음(투명한 부분만 읽음)\u001b[39;00m\n\u001b[0;32m     10\u001b[0m \u001b[38;5;124;03m\"\"\"\u001b[39;00m\n\u001b[0;32m     12\u001b[0m \u001b[38;5;66;03m# 2. 창 띄우기\u001b[39;00m\n\u001b[1;32m---> 13\u001b[0m cv2\u001b[38;5;241m.\u001b[39mimshow(\u001b[38;5;124m\"\u001b[39m\u001b[38;5;124m창제목\u001b[39m\u001b[38;5;124m\"\u001b[39m, \u001b[43m파일\u001b[49m)\n\u001b[0;32m     15\u001b[0m \u001b[38;5;66;03m# 3. 창 닫기\u001b[39;00m\n\u001b[0;32m     16\u001b[0m \u001b[38;5;66;03m#destroyALLWindows()\u001b[39;00m\n",
      "\u001b[1;31mNameError\u001b[0m: name '파일' is not defined"
     ]
    }
   ],
   "source": [
    "\n",
    "# 임포트 - import cv2\n",
    "\n",
    "# import cv2\n",
    "\n",
    "# 파일 읽기 - imread(파일경로, 옵션)\n",
    "\"\"\"\n",
    "IMREAD_COLOR - 이미지를 컬러로 읽음(투명한 부분은 무시)\n",
    "IMREAD_GRAYSCALE - 이미지를 흑백으로 읽음\n",
    "IMREAD_UNCHANGED - 이미지를 컬러로 읽음(투명한 부분만 읽음)\n",
    "\"\"\"\n",
    "\n",
    "# 2. 창 띄우기\n",
    "# cv2.imshow(\"창제목\", 파일)\n",
    "\n",
    "# 3. 창 닫기\n",
    "#cv2.destroyAllWinows()"
   ]
  },
  {
   "cell_type": "code",
   "execution_count": 22,
   "id": "64da5bb0-dde4-44a6-a160-9697cfec1a61",
   "metadata": {},
   "outputs": [],
   "source": [
    "import cv2\n",
    "\n",
    "# 파일 읽기\n",
    "img = cv2.imread(\"source/dog1.jpg\", cv2.IMREAD_COLOR)\n",
    "\n",
    "# 창 띄우기\n",
    "cv2.imshow(\"Dog\", img)\n",
    "\n",
    "# 창 대기(1000-1초, 0-무한대기)\n",
    "cv2.waitKey(5000)\n",
    "cv2.waitKey(0)\n",
    "# 창 닫기 \n",
    "cv2.destroyAllWindows()"
   ]
  },
  {
   "cell_type": "markdown",
   "id": "9eb1088c-0768-41f4-9fc7-9f45644df251",
   "metadata": {},
   "source": [
    "### 파일 저장하기"
   ]
  },
  {
   "cell_type": "code",
   "execution_count": 42,
   "id": "dbdc07e4-1ec0-43ac-a0e6-aaf98afa6be2",
   "metadata": {},
   "outputs": [
    {
     "name": "stdout",
     "output_type": "stream",
     "text": [
      "113\n"
     ]
    }
   ],
   "source": [
    "import cv2\n",
    "\n",
    "# 파일 읽기 - 흑백이미지 읽기\n",
    "img = cv2.imread(\"source/dog2.jpg\", cv2.IMREAD_GRAYSCALE)\n",
    "\n",
    "# 창 띄우기\n",
    "cv2.imshow(\"Dog2\", img)\n",
    "\n",
    "# 창 대기(1000-1초, 0-무한대기)\n",
    "# key - 'q' 인 경우 창 닫기\n",
    "# ord(문자) - 코드값\n",
    "key = cv2.waitKey(0)\n",
    "if key == ord('q'):\n",
    "    print(key)\n",
    "\n",
    "# output 폴더에 저장하기 - imwrite(파일경로, 파일)\n",
    "cv2.imwrite(\"./output/new_dog.jpg\", img)\n",
    "\n",
    "# 창 닫기 \n",
    "cv2.destroyAllWindows()"
   ]
  },
  {
   "cell_type": "code",
   "execution_count": 46,
   "id": "8c6edd98-ca81-4ba6-b6e2-544e2332779b",
   "metadata": {},
   "outputs": [],
   "source": [
    "#이미지 색상 변경하기 \n",
    "# cvtColor(파일, 색상 옵션) \n",
    "dog = cv2.imread('source/dog2.jpg', cv2.IMREAD_COLOR)\n",
    "\n",
    "dog_gray = cv2.cvtColor(dog, cv2.COLOR_BGR2GRAY)\n",
    "\n",
    "cv2.imshow('Dog', dog_gray)\n",
    "\n",
    "cv2.waitKey(0)\n",
    "\n",
    "cv2.destroyAllWindows()"
   ]
  }
 ],
 "metadata": {
  "kernelspec": {
   "display_name": "Python 3 (ipykernel)",
   "language": "python",
   "name": "python3"
  },
  "language_info": {
   "codemirror_mode": {
    "name": "ipython",
    "version": 3
   },
   "file_extension": ".py",
   "mimetype": "text/x-python",
   "name": "python",
   "nbconvert_exporter": "python",
   "pygments_lexer": "ipython3",
   "version": "3.12.4"
  }
 },
 "nbformat": 4,
 "nbformat_minor": 5
}
