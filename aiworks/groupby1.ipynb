{
 "cells": [
  {
   "cell_type": "code",
   "execution_count": 3,
   "id": "f4032341-bc74-4137-a23b-66a0ab623208",
   "metadata": {},
   "outputs": [
    {
     "name": "stdout",
     "output_type": "stream",
     "text": [
      "      성적               \n",
      "   count  mean min  max\n",
      "반별                     \n",
      "1반     2  85.0  80   90\n",
      "2반     2  65.0  60   70\n",
      "3반     2  85.0  70  100\n"
     ]
    }
   ],
   "source": [
    "import pandas as pd \n",
    "\n",
    "data = {\n",
    "    \"반별\" : [\"1반\", \"1반\", \"2반\", \"2반\", \"3반\", \"3반\"],\n",
    "    \"성적\" : [80, 90, 70, 60, 100, 70]\n",
    "}\n",
    "\n",
    "# 데이터 프레임 생성\n",
    "df = pd.DataFrame(data)\n",
    "df\n",
    "\n",
    "# 그룹화 및 통계\n",
    "describe = df.groupby(\"반별\").agg(['count', 'mean', 'min', 'max'])\n",
    "print(describe)"
   ]
  }
 ],
 "metadata": {
  "kernelspec": {
   "display_name": "Python 3 (ipykernel)",
   "language": "python",
   "name": "python3"
  },
  "language_info": {
   "codemirror_mode": {
    "name": "ipython",
    "version": 3
   },
   "file_extension": ".py",
   "mimetype": "text/x-python",
   "name": "python",
   "nbconvert_exporter": "python",
   "pygments_lexer": "ipython3",
   "version": "3.12.4"
  }
 },
 "nbformat": 4,
 "nbformat_minor": 5
}
