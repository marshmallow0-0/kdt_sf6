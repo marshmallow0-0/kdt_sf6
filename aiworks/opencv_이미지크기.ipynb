{
 "cells": [
  {
   "cell_type": "code",
   "execution_count": 19,
   "id": "86d332bf-03f6-4230-8341-ab6908858345",
   "metadata": {},
   "outputs": [
    {
     "name": "stdout",
     "output_type": "stream",
     "text": [
      "853 1280\n"
     ]
    }
   ],
   "source": [
    "import cv2\n",
    "\n",
    "\"\"\"\n",
    "이미지 크기 = (세로, 가로, 채널)\n",
    "channel - 컬러: 3(BGR), 흑백: 1\n",
    "\n",
    "height: 이미지의 세로 크기(픽셀 수).\n",
    "width: 이미지의 가로 크기(픽셀 수).\n",
    "channel: 이미지의 채널 수\n",
    "\n",
    "\"\"\"\n",
    "\n",
    "img = cv2.imread(\"./source/dog1.jpg\", cv2.IMREAD_COLOR)\n",
    "# img = cv2.imread(\"./source/dog1.jpg\", cv2.IMREAD_GRAYSCALE)\n",
    "# print(\"이미지 크기:\", img.shape)\n",
    "\n",
    "# height, width, channel = img.shape[:3]\n",
    "# print(height, width, channel)\n",
    "\n",
    "height, width = img.shape[:2]\n",
    "print(height, width)"
   ]
  },
  {
   "cell_type": "code",
   "execution_count": null,
   "id": "96d4235b-8e05-4fa6-9e6a-77988312aacc",
   "metadata": {},
   "outputs": [],
   "source": []
  }
 ],
 "metadata": {
  "kernelspec": {
   "display_name": "Python 3 (ipykernel)",
   "language": "python",
   "name": "python3"
  },
  "language_info": {
   "codemirror_mode": {
    "name": "ipython",
    "version": 3
   },
   "file_extension": ".py",
   "mimetype": "text/x-python",
   "name": "python",
   "nbconvert_exporter": "python",
   "pygments_lexer": "ipython3",
   "version": "3.12.4"
  }
 },
 "nbformat": 4,
 "nbformat_minor": 5
}
