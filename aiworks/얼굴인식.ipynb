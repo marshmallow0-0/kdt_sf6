{
 "cells": [
  {
   "cell_type": "code",
   "execution_count": 100,
   "id": "f0897781-c0f8-4589-bc7c-a5869d5589d3",
   "metadata": {},
   "outputs": [],
   "source": [
    "import cv2\n",
    "\n",
    "img = cv2.imread(\"./source/child3.jpg\")\n",
    "\n",
    "# 이미지를 흑백으로 변환\n",
    "\"\"\"\n",
    "cv2.cvtColor() 함수를 사용하여 이미지를 흑백(그레이스케일)으로 변환합니다.\n",
    "cv2.COLOR_BGR2GRAY: BGR 컬러 이미지를 그레이스케일로 변환하는 옵션입니다.\n",
    "얼굴 인식을 수행할 때, 성능을 위해 일반적으로 흑백 이미지를 사용하는 것이 더 빠르고 효율적입니다.\n",
    "\"\"\"\n",
    "\n",
    "img_gray = cv2.cvtColor(img, cv2.COLOR_BGR2GRAY)\n",
    "\n",
    "# 가중치 파일경로\n",
    "cascade_file = \"haarcascade_frontalface_alt.xml\"\n",
    "\n",
    "# 모델 불러오기\n",
    "face_cascade = cv2.CascadeClassifier(cascade_file)\n",
    "\n",
    "# 1.3 - 30%(비율을 반복적으로 줄여감)\n",
    "# 검출 회수 - \n",
    "\"\"\"\n",
    "1.3: 스케일 팩터로, 검출 과정에서 이미지 크기를 줄여가면서 얼굴을 찾습니다. 값이 클수록 검출 속도가 빨라지지만,\n",
    "작은 얼굴을 찾는 데는 어려워질 수 있습니다. 1.3은 이미지를 30%씩 축소하면서 검출을 반복한다는 의미입니다.\n",
    "4: 최소 이웃 수로, 얼굴로 검출되기 위해 주변 이웃 사각형이 최소 4개는 필요하다는 의미입니다. 값이 클수록 검출 결과의 정확도가 올라가지만,\n",
    "더 많은 얼굴이 누락될 수 있습니다.\n",
    "\"\"\"\n",
    "faces = face_cascade.detectMultiScale(img_gray, 1.3, 4)\n",
    "# 이미지에서 얼굴을 검출하는 데 사용\n",
    "# 얼굴 인식 사각형(rectangle) - x(좌표), y(좌표), w(너비), h(높이)\n",
    "\"\"\"\n",
    "faces: 검출된 얼굴 좌표들의 리스트입니다. detectMultiScale() 함수는 (x, y, w, h) 형식으로 각 얼굴의 좌표를 반환합니다.\n",
    "x, y: 얼굴 사각형의 왼쪽 상단 모서리 좌표입니다.\n",
    "w: 얼굴 사각형의 너비.\n",
    "h: 얼굴 사각형의 높이.\n",
    "\"\"\"\n",
    "\n",
    "for (x, y, w, h) in faces:\n",
    "    img = cv2.rectangle(img, (x, y), (x+w, y+h), (255,0,0), 3)\n",
    "\"\"\"\n",
    "img: 사각형을 그릴 이미지입니다.\n",
    "(x, y): 사각형의 왼쪽 상단 좌표입니다.\n",
    "(x + w, y + h): 사각형의 오른쪽 하단 좌표입니다. 즉, 사각형의 너비 w와 높이 h만큼을 더한 값이 오른쪽 하단 좌표가 됩니다.\n",
    "(255, 0, 0): 사각형의 색상입니다. 여기서 (255, 0, 0)은 파란색을 의미합니다. OpenCV에서 색상은 BGR 순서로 지정됩니다.\n",
    "3: 사각형의 테두리 두께입니다. 값이 커질수록 사각형의 선이 두꺼워집니다.\n",
    "\"\"\"\n",
    "\n",
    "cv2.imshow(\"child\", img)\n",
    "cv2.waitKey(0)\n",
    "cv2.destroyAllWindows()"
   ]
  },
  {
   "cell_type": "code",
   "execution_count": 98,
   "id": "b7ed5c99-fba7-473a-b2d9-51c75d8ff109",
   "metadata": {},
   "outputs": [
    {
     "ename": "error",
     "evalue": "OpenCV(4.10.0) D:\\a\\opencv-python\\opencv-python\\opencv\\modules\\imgproc\\src\\color.cpp:196: error: (-215:Assertion failed) !_src.empty() in function 'cv::cvtColor'\n",
     "output_type": "error",
     "traceback": [
      "\u001b[1;31m---------------------------------------------------------------------------\u001b[0m",
      "\u001b[1;31merror\u001b[0m                                     Traceback (most recent call last)",
      "Cell \u001b[1;32mIn[98], line 4\u001b[0m\n\u001b[0;32m      2\u001b[0m img \u001b[38;5;241m=\u001b[39m cv2\u001b[38;5;241m.\u001b[39mimread(\u001b[38;5;124m\"\u001b[39m\u001b[38;5;124m./source/children.jpg\u001b[39m\u001b[38;5;124m\"\u001b[39m)\n\u001b[0;32m      3\u001b[0m \u001b[38;5;66;03m# 이미지를 흑백으로 변환\u001b[39;00m\n\u001b[1;32m----> 4\u001b[0m img_gray \u001b[38;5;241m=\u001b[39m \u001b[43mcv2\u001b[49m\u001b[38;5;241;43m.\u001b[39;49m\u001b[43mcvtColor\u001b[49m\u001b[43m(\u001b[49m\u001b[43mimg\u001b[49m\u001b[43m,\u001b[49m\u001b[43m \u001b[49m\u001b[43mcv2\u001b[49m\u001b[38;5;241;43m.\u001b[39;49m\u001b[43mCOLOR_BGR2GRAY\u001b[49m\u001b[43m)\u001b[49m\n\u001b[0;32m      5\u001b[0m \u001b[38;5;66;03m# 가중치 파일경로\u001b[39;00m\n\u001b[0;32m      6\u001b[0m cascade_file \u001b[38;5;241m=\u001b[39m \u001b[38;5;124m\"\u001b[39m\u001b[38;5;124mhaarcascade_frontalface_alt.xml\u001b[39m\u001b[38;5;124m\"\u001b[39m\n",
      "\u001b[1;31merror\u001b[0m: OpenCV(4.10.0) D:\\a\\opencv-python\\opencv-python\\opencv\\modules\\imgproc\\src\\color.cpp:196: error: (-215:Assertion failed) !_src.empty() in function 'cv::cvtColor'\n"
     ]
    }
   ],
   "source": [
    "import cv2\n",
    "img = cv2.imread(\"./source/children.jpg\")\n",
    "# 이미지를 흑백으로 변환\n",
    "img_gray = cv2.cvtColor(img, cv2.COLOR_BGR2GRAY)\n",
    "# 가중치 파일경로\n",
    "cascade_file = \"haarcascade_frontalface_alt.xml\"\n",
    "#모델 불러오기\n",
    "face_cascade = cv2.CascadeClassifier(cascade_file)\n",
    "# 1.3 - 30%(비율을 반복적으로 줄여감)\n",
    "# 4 - 검출 회수\n",
    "#  detectMultiScale - 객체 탐지 메서드\n",
    "faces = face_cascade.detectMultiScale(img_gray, 1.3, 4)\n",
    "# 얼굴 인식 사각형(rectangle) - x(좌표), y(좌표), w(너비), h(높이), 색상, 두께\n",
    "for (x, y, w, h) in faces:\n",
    "    img = cv2.rectangle(img, (x, y), (x + w, y + h), (255, 0, 0), 3)\n",
    "cv2.imshow('child', img)\n",
    "cv2.waitKey(0)\n",
    "cv2.destroyAllWindows()"
   ]
  }
 ],
 "metadata": {
  "kernelspec": {
   "display_name": "Python 3 (ipykernel)",
   "language": "python",
   "name": "python3"
  },
  "language_info": {
   "codemirror_mode": {
    "name": "ipython",
    "version": 3
   },
   "file_extension": ".py",
   "mimetype": "text/x-python",
   "name": "python",
   "nbconvert_exporter": "python",
   "pygments_lexer": "ipython3",
   "version": "3.12.4"
  }
 },
 "nbformat": 4,
 "nbformat_minor": 5
}
