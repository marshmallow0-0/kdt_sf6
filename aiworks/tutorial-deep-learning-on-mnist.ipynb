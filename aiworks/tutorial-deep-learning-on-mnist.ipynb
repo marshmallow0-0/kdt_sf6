{
 "cells": [
  {
   "cell_type": "markdown",
   "id": "586c906d",
   "metadata": {},
   "source": [
    "# Deep learning on MNIST\n",
    "\n",
    "This tutorial demonstrates how to build a simple [feedforward neural network](https://en.wikipedia.org/wiki/Feedforward_neural_network) (with one hidden layer) and train it from scratch with NumPy to recognize handwritten digit images.\n",
    "\n",
    "Your deep learning model — one of the most basic artificial neural networks that resembles the original [multi-layer perceptron](https://en.wikipedia.org/wiki/Multilayer_perceptron) — will learn to classify digits from 0 to 9 from the [MNIST](https://en.wikipedia.org/wiki/MNIST_database) dataset. The dataset contains 60,000 training and 10,000 test images and corresponding labels. Each training and test image is of size 784 (or 28x28 pixels) — this will be your input for the neural network.\n",
    "\n",
    "Based on the image inputs and their labels ([supervised learning](https://en.wikipedia.org/wiki/Supervised_learning)), your neural network will be trained to learn their features using forward propagation and backpropagation ([reverse-mode](https://en.wikipedia.org/wiki/Automatic_differentiation#Reverse_accumulation) differentiation). The final output of the network is a vector of 10 scores — one for each handwritten digit image. You will also evaluate how good your model is at classifying the images on the test set.\n",
    "\n",
    "![Diagram showing operations detailed in this tutorial (The input image\n",
    "is passed into a Hidden layer that creates a weighted sum of outputs.\n",
    "The weighted sum is passed to the Non-linearity, then regularization and\n",
    "into the output layer. The output layer creates a prediction which can\n",
    "then be compared to existing data. The errors are used to calculate the\n",
    "loss function and update weights in the hidden layer and output\n",
    "layer.)](_static/tutorial-deep-learning-on-mnist.png)\n",
    "\n",
    "This tutorial was adapted from the work by [Andrew Trask](https://github.com/iamtrask/Grokking-Deep-Learning) (with the author's permission).\n",
    "\n",
    "## Prerequisites\n",
    "\n",
    "The reader should have some knowledge of Python, NumPy array manipulation, and linear algebra. In addition, you should be familiar with main concepts of [deep learning](https://en.wikipedia.org/wiki/Deep_learning).\n",
    "\n",
    "To refresh the memory, you can take the [Python](https://docs.python.org/dev/tutorial/index.html) and [Linear algebra on n-dimensional arrays](https://numpy.org/doc/stable/user/tutorial-svd.html) tutorials.\n",
    "\n",
    "You are advised to read the [Deep learning](http://www.cs.toronto.edu/~hinton/absps/NatureDeepReview.pdf) paper published in 2015 by Yann LeCun, Yoshua Bengio, and Geoffrey Hinton, who are regarded as some of the pioneers of the field. You should also consider reading Andrew Trask's [Grokking Deep Learning](https://www.manning.com/books/grokking-deep-learning), which teaches deep learning with NumPy.\n",
    "\n",
    "In addition to NumPy, you will be utilizing the following Python standard modules for data loading and processing:\n",
    "- [`urllib`](https://docs.python.org/3/library/urllib.html) for URL handling\n",
    "- [`request`](https://docs.python.org/3/library/urllib.request.html) for URL opening\n",
    "- [`gzip`](https://docs.python.org/3/library/gzip.html) for gzip file decompression\n",
    "- [`pickle`](https://docs.python.org/3/library/pickle.html) to work with the pickle file format\n",
    "\n",
    "    as well as:\n",
    "- [Matplotlib](https://matplotlib.org/) for data visualization\n",
    "\n",
    "This tutorial can be run locally in an isolated environment, such as [Virtualenv](https://virtualenv.pypa.io/en/stable/) or [conda](https://docs.conda.io/projects/conda/en/latest/user-guide/tasks/manage-environments.html). You can use [Jupyter Notebook or JupyterLab](https://jupyter.org/install) to run each notebook cell. Don't forget to [set up NumPy](https://numpy.org/doc/stable/user/absolute_beginners.html#installing-numpy) and [Matplotlib](https://matplotlib.org/users/installing.html#installing-an-official-release).\n",
    "\n",
    "## Table of contents\n",
    "\n",
    "1. Load the MNIST dataset\n",
    "\n",
    "2. Preprocess the dataset\n",
    "\n",
    "3. Build and train a small neural network from scratch\n",
    "\n",
    "4. Next steps\n",
    "\n",
    "---\n",
    "\n",
    "## 1. Load the MNIST dataset\n",
    "\n",
    "In this section, you will download the zipped MNIST dataset files originally stored in [Yann LeCun's website](http://yann.lecun.com/exdb/mnist/). Then, you will transform them into 4 files of NumPy array type using built-in Python modules. Finally, you will split the arrays into training and test sets.\n",
    "\n",
    "**1.** Define a variable to store the training/test image/label names of the MNIST dataset in a list:"
   ]
  },
  {
   "cell_type": "markdown",
   "id": "b90509bd-04b9-4252-9d06-91b13bc5cf4f",
   "metadata": {},
   "source": [
    "\n",
    "1. MNIST 데이터셋 불러오기\n",
    "\n",
    "이 섹션에서는 Yann LeCun의 웹사이트에 원래 저장되어 있던 압축된 MNIST 데이터셋 파일을 다운로드합니다. 그런 다음, Python의 내장 모듈을 사용하여 이 데이터를 4개의 NumPy 배열 형식으로 변환합니다. 마지막으로, 배열을 훈련 세트와 테스트 세트로 나누는 작업을 진행합니다.\n",
    "\n",
    "1. MNIST 데이터셋의 훈련/테스트 이미지 및 라벨 파일 이름을 저장할 변수를 리스트에 정의하세요:\n",
    "\n",
    "이 문장은 MNIST 데이터셋에서 훈련 및 테스트 이미지와 라벨의 파일 이름을 저장할 변수를 리스트로 정의하라는 지시사항입니다.\n",
    "\n",
    "이미지 파일: 이미지 데이터를 포함하는 파일.\n",
    "라벨 파일: 각 이미지에 대한 실제 숫자(0~9)를 포함하는 파일."
   ]
  },
  {
   "cell_type": "code",
   "execution_count": 76,
   "id": "0600ec0a",
   "metadata": {},
   "outputs": [],
   "source": [
    "data_sources = {\n",
    "    \"training_images\": \"train-images-idx3-ubyte.gz\",  # 60,000 training images.\n",
    "    \"test_images\": \"t10k-images-idx3-ubyte.gz\",  # 10,000 test images.\n",
    "    \"training_labels\": \"train-labels-idx1-ubyte.gz\",  # 60,000 training labels.\n",
    "    \"test_labels\": \"t10k-labels-idx1-ubyte.gz\",  # 10,000 test labels.\n",
    "}"
   ]
  },
  {
   "cell_type": "markdown",
   "id": "01f2a1fc",
   "metadata": {},
   "source": [
    "**2.** Load the data. First check if the data is stored locally; if not, then\n",
    "download it."
   ]
  },
  {
   "cell_type": "code",
   "execution_count": 79,
   "id": "d84c63cf",
   "metadata": {
    "tags": [
     "remove-cell"
    ]
   },
   "outputs": [],
   "source": [
    "# Use responsibly! When running notebooks locally, be sure to keep local\n",
    "# copies of the datasets to prevent unnecessary server requests\n",
    "headers = {\n",
    "    \"User-Agent\": \"Mozilla/5.0 (X11; Linux x86_64; rv:10.0) Gecko/20100101 Firefox/10.0\"\n",
    "}\n",
    "request_opts = {\n",
    "    \"headers\": headers,\n",
    "    \"params\": {\"raw\": \"true\"},\n",
    "}"
   ]
  },
  {
   "cell_type": "code",
   "execution_count": 81,
   "id": "3fd29e9e",
   "metadata": {},
   "outputs": [],
   "source": [
    "import requests\n",
    "import os\n",
    "import matplotlib.pyplot as plt\n",
    "\n",
    "data_dir = \"data\"\n",
    "os.makedirs(data_dir, exist_ok=True)\n",
    "\n",
    "base_url = \"https://github.com/rossbar/numpy-tutorial-data-mirror/blob/main/\"\n",
    "\n",
    "for fname in data_sources.values():\n",
    "    fpath = os.path.join(data_dir, fname)\n",
    "    if not os.path.exists(fpath):\n",
    "        print(\"Downloading file: \" + fname)\n",
    "        resp = requests.get(base_url + fname, stream=True, **request_opts)\n",
    "        resp.raise_for_status()  # Ensure download was succesful\n",
    "        with open(fpath, \"wb\") as fh:\n",
    "            for chunk in resp.iter_content(chunk_size=128):\n",
    "                fh.write(chunk)"
   ]
  },
  {
   "cell_type": "markdown",
   "id": "214ea1d7-6d8f-4060-8c02-ff07a81a864e",
   "metadata": {},
   "source": [
    "import requests\n",
    "requests 라이브러리는 HTTP 요청을 보내는 데 사용\n",
    "웹 서버에서 데이터를 가져오거나 API와 상호작용할 때 자주 사용\n",
    "\n",
    "import os\n",
    "os 모듈은 운영체제와 상호작용하는 기능을 제공 \n",
    "파일 경로나 디렉토리 관련 작업에 사용\n",
    "\n",
    "data_dir = \"data\":\n",
    "data_dir 변수는 데이터를 저장할 디렉토리 이름을 정의 \n",
    "\n",
    "os.makedirs(data_dir, exist_ok=True):\n",
    "os.makedirs()는 지정된 경로에 디렉토리를 생성\n",
    "\n",
    "exist_ok=True는 만약 해당 디렉토리가 이미 존재할 경우 \n",
    "오류를 발생시키지 않고 넘어가게 하는 옵션\n",
    "\n",
    "base_url = \"https://github.com/rossbar/numpy-tutorial-data-mirror/blob/main/\":\n",
    "base_url 변수는 파일들이 위치한 서버의 기본 URL을 정의\n",
    "각 파일은 이 기본 URL을 기준으로 다운로드되며, 파일 이름만 붙여서 전체 URL을 생성합니다.\n",
    "\n",
    "for fname in data_sources.values()::\n",
    "data_sources는 이전에 정의된 파일 이름을 저장한 딕셔너리 또는 데이터 구조로 예상\n",
    ".values()는 data_sources의 값(파일 이름)을 순회\n",
    "\n",
    "fpath = os.path.join(data_dir, fname):\n",
    "fpath는 로컬 파일 경로를 생성합니다.\n",
    "os.path.join(data_dir, fname)는 \"data\" 디렉토리와 파일 이름(fname)을 합쳐서 로컬 시스템에서의 파일 경로를 만듭니다. 예를 들어 \"data/myfile.csv\"와 같은 경로가 생성될 수 있습니다.\n",
    "\n",
    "if not os.path.exists(fpath)::\n",
    "이 조건은 파일이 이미 존재하는지 확인합니다. 만약 파일이 이미 존재하면 다운로드를 하지 않고 넘어갑니다.\n",
    "즉, 파일이 없을 때만 다운로드합니다.\n",
    "\n",
    "resp = requests.get(base_url + fname, stream=True, **request_opts):\n",
    "\n",
    "requests.get()는 HTTP GET 요청을 통해 서버에서 파일을 가져옵니다.\n",
    "base_url + fname는 파일을 다운로드할 전체 URL을 생성합니다. 즉, 기본 URL에 파일 이름을 붙여 전체 파일 경로를 만듭니다.\n",
    "\n",
    "stream=True는 파일을 스트리밍 방식으로 다운로드한다는 의미입니다. 즉, 파일을 한꺼번에 메모리에 모두 로드하지 않고, 작은 청크(chunk) 단위로 다운로드\n",
    "\n",
    "**request_opts는 이전에 정의된 **옵션 설정(헤더와 쿼리 매개변수)**을 사용합니다.\n",
    "resp.raise_for_status():\n",
    "\n",
    "다운로드가 정상적으로 이루어졌는지 확인하는 함수입니다.\n",
    "서버에서 문제가 발생하거나 파일을 찾을 수 없을 때 **예외(에러)**를 발생시킵니다. 예를 들어, HTTP 404 에러가 발생할 경우 이 코드에서 예외가 발생합니다.\n",
    "with open(fpath, \"wb\") as fh::\n",
    "\n",
    "파일을 쓰기 모드로 열고(\"wb\"는 바이너리 쓰기 모드), 파일 객체 fh에 데이터를 기록합니다.\n",
    "\"wb\" 모드는 바이너리 데이터(이미지, 압축 파일 등)를 저장할 때 사용됩니다.\n",
    "for chunk in resp.iter_content(chunk_size=128)::\n",
    "\n",
    "스트리밍 방식으로 데이터를 다운로드할 때 128바이트 크기의 청크 단위로 데이터를 읽어옵니다.\n",
    "resp.iter_content()는 스트리밍 방식으로 서버에서 데이터를 가져오는 메서드입니다.\n",
    "fh.write(chunk):\n",
    "\n",
    "각 청크를 파일에 쓰기 작업을 합니다.\n",
    "파일에 128바이트씩 데이터를 계속해서 기록하여 다운로드가 완료될 때까지 반복"
   ]
  },
  {
   "cell_type": "markdown",
   "id": "f07ff934",
   "metadata": {},
   "source": [
    "**3.** Decompress the 4 files and create 4 [`ndarrays`](https://numpy.org/doc/stable/reference/arrays.ndarray.html), saving them into a dictionary. Each original image is of size 28x28 and neural networks normally expect a 1D vector input; therefore, you also need to reshape the images by multiplying 28 by 28 (784)."
   ]
  },
  {
   "cell_type": "code",
   "execution_count": 85,
   "id": "793ea8f5",
   "metadata": {},
   "outputs": [
    {
     "data": {
      "text/plain": [
       "'\\nfor key in (\"training_labels\", \"test_labels\")::\\n\\n훈련 라벨과 테스트 라벨을 처리합니다.\\ngzip.open():\\n\\n이미지 처리와 동일하게, 압축된 파일을 해제하여 읽습니다.\\nnp.frombuffer(mnist_file.read(), np.uint8, offset=8):\\n\\n라벨 파일의 헤더는 8바이트이므로, **offset=8**을 사용하여 이를 무시한 후 라벨 데이터를 읽습니다.\\n라벨은 0~9 사이의 정수로 표현되며, 각 이미지에 대한 숫자 값을 의미합니다.\\n4. 최종 딕셔너리 mnist_dataset:\\nmnist_dataset 딕셔너리는 이제 네 개의 주요 데이터셋을 포함하게 됩니다:\\n\\'training_images\\': 훈련 이미지 (28x28 픽셀의 이미지가 펼쳐진 1차원 배열 형태).\\n\\'test_images\\': 테스트 이미지.\\n\\'training_labels\\': 훈련 라벨 (각 이미지가 어떤 숫자를 나타내는지).\\n\\'test_labels\\': 테스트 라벨.\\n'"
      ]
     },
     "execution_count": 85,
     "metadata": {},
     "output_type": "execute_result"
    }
   ],
   "source": [
    "import gzip\n",
    "import numpy as np\n",
    "\n",
    "mnist_dataset = {}\n",
    "\n",
    "# Images\n",
    "for key in (\"training_images\", \"test_images\"):\n",
    "    with gzip.open(os.path.join(data_dir, data_sources[key]), \"rb\") as mnist_file:\n",
    "        mnist_dataset[key] = np.frombuffer(\n",
    "            mnist_file.read(), np.uint8, offset=16\n",
    "        ).reshape(-1, 28 * 28)\n",
    "\"\"\"\n",
    "for key in (\"training_images\", \"test_images\")::\n",
    "\n",
    "training_images와 test_images라는 두 개의 키에 대해 반복문을 실행합니다. 각각 훈련 이미지와 테스트 이미지를 처리합니다.\n",
    "with gzip.open(os.path.join(data_dir, data_sources[key]), \"rb\") as mnist_file::\n",
    "\n",
    "gzip.open()은 MNIST 데이터 파일을 압축 해제하여 읽는 작업입니다.\n",
    "os.path.join(data_dir, data_sources[key])는 파일 경로를 생성합니다. data_dir는 데이터가 저장된 디렉토리이고, data_sources[key]는 training_images 또는 test_images의 파일 이름을 의미합니다.\n",
    "\"rb\"는 바이너리 읽기 모드를 뜻합니다.\n",
    "np.frombuffer(mnist_file.read(), np.uint8, offset=16):\n",
    "\n",
    "mnist_file.read()는 파일에서 데이터를 읽어서 바이트 형태로 반환합니다.\n",
    "**np.frombuffer()**는 바이트 데이터를 numpy 배열로 변환합니다. np.uint8은 8비트(0~255) 범위의 부호 없는 정수로 변환하겠다는 뜻입니다.\n",
    "offset=16: MNIST 이미지 파일의 헤더에는 16바이트의 메타데이터(이미지 개수, 행과 열의 수 등)가 있기 때문에, 이를 건너뛰고(16바이트를 무시하고) 나머지 데이터를 이미지 데이터로 처리합니다.\n",
    ".reshape(-1, 28 * 28):\n",
    "\n",
    "읽은 데이터를 28x28 픽셀 이미지로 변환합니다.\n",
    "-1은 데이터 개수에 맞춰서 자동으로 행을 맞추겠다는 의미입니다. 즉, 전체 데이터셋에서 각 이미지가 28x28 크기의 이미지로 변환됩니다.\n",
    "결과적으로 각 이미지는 28x28 픽셀로 구성된 784개의 픽셀 값을 가지며, 이를 1차원 배열(784개의 값)로 변환한 것입니다.\n",
    "\"\"\"\n",
    "# Labels\n",
    "for key in (\"training_labels\", \"test_labels\"):\n",
    "    with gzip.open(os.path.join(data_dir, data_sources[key]), \"rb\") as mnist_file:\n",
    "        mnist_dataset[key] = np.frombuffer(mnist_file.read(), np.uint8, offset=8)\n",
    "\n",
    "\"\"\"\n",
    "for key in (\"training_labels\", \"test_labels\")::\n",
    "\n",
    "훈련 라벨과 테스트 라벨을 처리합니다.\n",
    "gzip.open():\n",
    "\n",
    "이미지 처리와 동일하게, 압축된 파일을 해제하여 읽습니다.\n",
    "np.frombuffer(mnist_file.read(), np.uint8, offset=8):\n",
    "\n",
    "라벨 파일의 헤더는 8바이트이므로, **offset=8**을 사용하여 이를 무시한 후 라벨 데이터를 읽습니다.\n",
    "라벨은 0~9 사이의 정수로 표현되며, 각 이미지에 대한 숫자 값을 의미합니다.\n",
    "4. 최종 딕셔너리 mnist_dataset:\n",
    "mnist_dataset 딕셔너리는 이제 네 개의 주요 데이터셋을 포함하게 됩니다:\n",
    "'training_images': 훈련 이미지 (28x28 픽셀의 이미지가 펼쳐진 1차원 배열 형태).\n",
    "'test_images': 테스트 이미지.\n",
    "'training_labels': 훈련 라벨 (각 이미지가 어떤 숫자를 나타내는지).\n",
    "'test_labels': 테스트 라벨.\n",
    "\"\"\""
   ]
  },
  {
   "cell_type": "code",
   "execution_count": 87,
   "id": "36707c95-0882-410e-996e-baab6262d979",
   "metadata": {},
   "outputs": [
    {
     "data": {
      "text/plain": [
       "{'training_images': array([[0, 0, 0, ..., 0, 0, 0],\n",
       "        [0, 0, 0, ..., 0, 0, 0],\n",
       "        [0, 0, 0, ..., 0, 0, 0],\n",
       "        ...,\n",
       "        [0, 0, 0, ..., 0, 0, 0],\n",
       "        [0, 0, 0, ..., 0, 0, 0],\n",
       "        [0, 0, 0, ..., 0, 0, 0]], dtype=uint8),\n",
       " 'test_images': array([[0, 0, 0, ..., 0, 0, 0],\n",
       "        [0, 0, 0, ..., 0, 0, 0],\n",
       "        [0, 0, 0, ..., 0, 0, 0],\n",
       "        ...,\n",
       "        [0, 0, 0, ..., 0, 0, 0],\n",
       "        [0, 0, 0, ..., 0, 0, 0],\n",
       "        [0, 0, 0, ..., 0, 0, 0]], dtype=uint8),\n",
       " 'training_labels': array([5, 0, 4, ..., 5, 6, 8], dtype=uint8),\n",
       " 'test_labels': array([7, 2, 1, ..., 4, 5, 6], dtype=uint8)}"
      ]
     },
     "execution_count": 87,
     "metadata": {},
     "output_type": "execute_result"
    }
   ],
   "source": [
    "mnist_dataset"
   ]
  },
  {
   "cell_type": "markdown",
   "id": "b8b4e24a",
   "metadata": {},
   "source": [
    "**4.** Split the data into training and test sets using the standard notation of `x` for data and `y` for labels, calling the training and test set images `x_train` and `x_test`, and the labels `y_train` and `y_test`:"
   ]
  },
  {
   "cell_type": "code",
   "execution_count": 90,
   "id": "5926a70c",
   "metadata": {
    "scrolled": true
   },
   "outputs": [
    {
     "name": "stdout",
     "output_type": "stream",
     "text": [
      "(60000, 784)\n",
      "(60000,)\n"
     ]
    }
   ],
   "source": [
    "x_train, y_train, x_test, y_test = (\n",
    "    mnist_dataset[\"training_images\"],\n",
    "    mnist_dataset[\"training_labels\"],\n",
    "    mnist_dataset[\"test_images\"],\n",
    "    mnist_dataset[\"test_labels\"],\n",
    ")\n",
    "\n",
    "#print(x_train)\n",
    "print(x_train.shape)\n",
    "print(y_train.shape)"
   ]
  },
  {
   "cell_type": "code",
   "execution_count": 92,
   "id": "ceade0a0-0fe1-4f36-9414-68a088042ff4",
   "metadata": {},
   "outputs": [
    {
     "data": {
      "text/plain": [
       "array([  0,   0,   0,   0,   0,   0,   0,   0,   0,   0,   0,   0,   0,\n",
       "         0,   0,   0,   0,   0,   0,   0,   0,   0,   0,   0,   0,   0,\n",
       "         0,   0,   0,   0,   0,   0,   0,   0,   0,   0,   0,   0,   0,\n",
       "         0,   0,   0,   0,   0,   0,   0,   0,   0,   0,   0,   0,   0,\n",
       "         0,   0,   0,   0,   0,   0,   0,   0,   0,   0,   0,   0,   0,\n",
       "         0,   0,   0,   0,   0,   0,   0,   0,   0,   0,   0,   0,   0,\n",
       "         0,   0,   0,   0,   0,   0,   0,   0,   0,   0,   0,   0,   0,\n",
       "         0,   0,   0,   0,   0,   0,   0,   0,   0,   0,   0,   0,   0,\n",
       "         0,   0,   0,   0,   0,   0,   0,   0,   0,   0,   0,   0,   0,\n",
       "         0,   0,   0,   0,   0,   0,   0,   0,   0,   0,   0,   0,   0,\n",
       "         0,   0,   0,   0,   0,   0,   0,   0,   0,   0,   0,   0,   0,\n",
       "         0,   0,   0,   0,   0,   0,   0,   0,   0,   3,  18,  18,  18,\n",
       "       126, 136, 175,  26, 166, 255, 247, 127,   0,   0,   0,   0,   0,\n",
       "         0,   0,   0,   0,   0,   0,   0,  30,  36,  94, 154, 170, 253,\n",
       "       253, 253, 253, 253, 225, 172, 253, 242, 195,  64,   0,   0,   0,\n",
       "         0,   0,   0,   0,   0,   0,   0,   0,  49, 238, 253, 253, 253,\n",
       "       253, 253, 253, 253, 253, 251,  93,  82,  82,  56,  39,   0,   0,\n",
       "         0,   0,   0,   0,   0,   0,   0,   0,   0,   0,  18, 219, 253,\n",
       "       253, 253, 253, 253, 198, 182, 247, 241,   0,   0,   0,   0,   0,\n",
       "         0,   0,   0,   0,   0,   0,   0,   0,   0,   0,   0,   0,   0,\n",
       "        80, 156, 107, 253, 253, 205,  11,   0,  43, 154,   0,   0,   0,\n",
       "         0,   0,   0,   0,   0,   0,   0,   0,   0,   0,   0,   0,   0,\n",
       "         0,   0,   0,  14,   1, 154, 253,  90,   0,   0,   0,   0,   0,\n",
       "         0,   0,   0,   0,   0,   0,   0,   0,   0,   0,   0,   0,   0,\n",
       "         0,   0,   0,   0,   0,   0,   0, 139, 253, 190,   2,   0,   0,\n",
       "         0,   0,   0,   0,   0,   0,   0,   0,   0,   0,   0,   0,   0,\n",
       "         0,   0,   0,   0,   0,   0,   0,   0,   0,  11, 190, 253,  70,\n",
       "         0,   0,   0,   0,   0,   0,   0,   0,   0,   0,   0,   0,   0,\n",
       "         0,   0,   0,   0,   0,   0,   0,   0,   0,   0,   0,   0,  35,\n",
       "       241, 225, 160, 108,   1,   0,   0,   0,   0,   0,   0,   0,   0,\n",
       "         0,   0,   0,   0,   0,   0,   0,   0,   0,   0,   0,   0,   0,\n",
       "         0,   0,  81, 240, 253, 253, 119,  25,   0,   0,   0,   0,   0,\n",
       "         0,   0,   0,   0,   0,   0,   0,   0,   0,   0,   0,   0,   0,\n",
       "         0,   0,   0,   0,   0,  45, 186, 253, 253, 150,  27,   0,   0,\n",
       "         0,   0,   0,   0,   0,   0,   0,   0,   0,   0,   0,   0,   0,\n",
       "         0,   0,   0,   0,   0,   0,   0,   0,  16,  93, 252, 253, 187,\n",
       "         0,   0,   0,   0,   0,   0,   0,   0,   0,   0,   0,   0,   0,\n",
       "         0,   0,   0,   0,   0,   0,   0,   0,   0,   0,   0,   0, 249,\n",
       "       253, 249,  64,   0,   0,   0,   0,   0,   0,   0,   0,   0,   0,\n",
       "         0,   0,   0,   0,   0,   0,   0,   0,   0,   0,   0,  46, 130,\n",
       "       183, 253, 253, 207,   2,   0,   0,   0,   0,   0,   0,   0,   0,\n",
       "         0,   0,   0,   0,   0,   0,   0,   0,   0,   0,   0,  39, 148,\n",
       "       229, 253, 253, 253, 250, 182,   0,   0,   0,   0,   0,   0,   0,\n",
       "         0,   0,   0,   0,   0,   0,   0,   0,   0,   0,   0,  24, 114,\n",
       "       221, 253, 253, 253, 253, 201,  78,   0,   0,   0,   0,   0,   0,\n",
       "         0,   0,   0,   0,   0,   0,   0,   0,   0,   0,   0,  23,  66,\n",
       "       213, 253, 253, 253, 253, 198,  81,   2,   0,   0,   0,   0,   0,\n",
       "         0,   0,   0,   0,   0,   0,   0,   0,   0,   0,   0,  18, 171,\n",
       "       219, 253, 253, 253, 253, 195,  80,   9,   0,   0,   0,   0,   0,\n",
       "         0,   0,   0,   0,   0,   0,   0,   0,   0,   0,   0,  55, 172,\n",
       "       226, 253, 253, 253, 253, 244, 133,  11,   0,   0,   0,   0,   0,\n",
       "         0,   0,   0,   0,   0,   0,   0,   0,   0,   0,   0,   0,   0,\n",
       "       136, 253, 253, 253, 212, 135, 132,  16,   0,   0,   0,   0,   0,\n",
       "         0,   0,   0,   0,   0,   0,   0,   0,   0,   0,   0,   0,   0,\n",
       "         0,   0,   0,   0,   0,   0,   0,   0,   0,   0,   0,   0,   0,\n",
       "         0,   0,   0,   0,   0,   0,   0,   0,   0,   0,   0,   0,   0,\n",
       "         0,   0,   0,   0,   0,   0,   0,   0,   0,   0,   0,   0,   0,\n",
       "         0,   0,   0,   0,   0,   0,   0,   0,   0,   0,   0,   0,   0,\n",
       "         0,   0,   0,   0,   0,   0,   0,   0,   0,   0,   0,   0,   0,\n",
       "         0,   0,   0,   0,   0,   0,   0,   0,   0,   0,   0,   0,   0,\n",
       "         0,   0,   0,   0], dtype=uint8)"
      ]
     },
     "execution_count": 92,
     "metadata": {},
     "output_type": "execute_result"
    }
   ],
   "source": [
    "x_train[0]"
   ]
  },
  {
   "cell_type": "code",
   "execution_count": 94,
   "id": "b945d7cd-a58d-4cf4-a28b-e961e4f55de0",
   "metadata": {},
   "outputs": [
    {
     "data": {
      "text/plain": [
       "<matplotlib.image.AxesImage at 0x174e704c7a0>"
      ]
     },
     "execution_count": 94,
     "metadata": {},
     "output_type": "execute_result"
    },
    {
     "data": {
      "image/png": "[encoded data removed]",
      "text/plain": [
       "<Figure size 640x480 with 1 Axes>"
      ]
     },
     "metadata": {},
     "output_type": "display_data"
    }
   ],
   "source": [
    "x_train[0].reshape(28, 28) # 정방 행렬\n",
    "data = x_train[-1].reshape(28, 28)\n",
    "# 1차원 배열을 28x28 크기의 2차원 배열로 변환합니다. 이렇게 하면, 이미지 데이터를 정방 행렬로 표현할 수 있습니다\n",
    "plt.imshow(data, cmap='gray')"
   ]
  },
  {
   "cell_type": "code",
   "execution_count": 96,
   "id": "31b20e8a-ee5d-4e31-9ace-fc9ca4a7a62f",
   "metadata": {},
   "outputs": [
    {
     "data": {
      "text/plain": [
       "array([5, 0, 4, ..., 5, 6, 8], dtype=uint8)"
      ]
     },
     "execution_count": 96,
     "metadata": {},
     "output_type": "execute_result"
    }
   ],
   "source": [
    "y_train[0]  #정답 데이터와 비교 확인 \n",
    "y_train[-1] #정답 데이터와 비교 확인 \n",
    "y_train"
   ]
  },
  {
   "cell_type": "markdown",
   "id": "1a701f83",
   "metadata": {},
   "source": [
    "**5.** You can confirm that the shape of the image arrays is `(60000, 784)` and `(10000, 784)` for training and test sets, respectively, and the labels — `(60000,)` and `(10000,)`:"
   ]
  },
  {
   "cell_type": "code",
   "execution_count": 99,
   "id": "3061ce34",
   "metadata": {},
   "outputs": [
    {
     "name": "stdout",
     "output_type": "stream",
     "text": [
      "The shape of training images: (60000, 784) and training labels: (60000,)\n",
      "The shape of test images: (10000, 784) and test labels: (10000,)\n"
     ]
    }
   ],
   "source": [
    "print(\n",
    "    \"The shape of training images: {} and training labels: {}\".format(\n",
    "        x_train.shape, y_train.shape\n",
    "    )\n",
    ")\n",
    "print(\n",
    "    \"The shape of test images: {} and test labels: {}\".format(\n",
    "        x_test.shape, y_test.shape\n",
    "    )\n",
    ")"
   ]
  },
  {
   "cell_type": "markdown",
   "id": "46fa7f52",
   "metadata": {},
   "source": [
    "**6.** And you can inspect some images using Matplotlib:"
   ]
  },
  {
   "cell_type": "code",
   "execution_count": 102,
   "id": "437d3be7",
   "metadata": {},
   "outputs": [
    {
     "data": {
      "image/png": "[encoded data removed]",
      "text/plain": [
       "<Figure size 640x480 with 1 Axes>"
      ]
     },
     "metadata": {},
     "output_type": "display_data"
    }
   ],
   "source": [
    "import matplotlib.pyplot as plt\n",
    "\n",
    "# Take the 60,000th image (indexed at 59,999) from the training set,\n",
    "# reshape from (784, ) to (28, 28) to have a valid shape for displaying purposes.\n",
    "mnist_image = x_train[59999, :].reshape(28, 28)\n",
    "# Set the color mapping to grayscale to have a black background.\n",
    "plt.imshow(mnist_image, cmap=\"gray\")\n",
    "# Display the image.\n",
    "plt.show()"
   ]
  },
  {
   "cell_type": "code",
   "execution_count": 104,
   "id": "263650da",
   "metadata": {},
   "outputs": [
    {
     "data": {
      "image/png": "[encoded data removed]",
      "text/plain": [
       "<Figure size 640x480 with 5 Axes>"
      ]
     },
     "metadata": {},
     "output_type": "display_data"
    }
   ],
   "source": [
    "# Display 5 random images from the training set.\n",
    "num_examples = 5\n",
    "seed = 147197952744 #재현 가능한 무작위 선택을 가능\n",
    "rng = np.random.default_rng(seed) # 난수 생성기\n",
    "\n",
    "fig, axes = plt.subplots(1, num_examples)\n",
    "\"\"\"\n",
    "**rng.choice()**는 난수 생성기를 사용하여 주어진 배열(x_train)에서 무작위로 샘플을 선택하는 함수입니다.\n",
    "x_train: MNIST 데이터셋의 훈련 이미지입니다.\n",
    "size=num_examples: 5개의 이미지를 선택합니다.\n",
    "replace=False: 중복 없이 무작위로 이미지를 선택합니다. 즉, 같은 이미지가 여러 번 선택되지 않습니다.\n",
    "\"\"\"\n",
    "for sample, ax in zip(rng.choice(x_train, size=num_examples, replace=False), axes):\n",
    "    ax.imshow(sample.reshape(28, 28), cmap=\"gray\")"
   ]
  },
  {
   "cell_type": "markdown",
   "id": "74290f4b",
   "metadata": {},
   "source": [
    "_Above are five images taken from the MNIST training set. Various hand-drawn\n",
    "Arabic numerals are shown, with exact values chosen randomly with each run of the code._\n",
    "\n",
    "> **Note:** You can also visualize a sample image as an array by printing `x_train[59999]`. Here, `59999` is your 60,000th training image sample (`0` would be your first). Your output will be quite long and should contain an array of 8-bit integers:\n",
    ">\n",
    ">\n",
    "> ```\n",
    "> ...\n",
    ">          0,   0,  38,  48,  48,  22,   0,   0,   0,   0,   0,   0,   0,\n",
    ">          0,   0,   0,   0,   0,   0,   0,   0,   0,   0,   0,   0,   0,\n",
    ">          0,  62,  97, 198, 243, 254, 254, 212,  27,   0,   0,   0,   0,\n",
    "> ...\n",
    "> ```"
   ]
  },
  {
   "cell_type": "code",
   "execution_count": 107,
   "id": "5ab56141",
   "metadata": {},
   "outputs": [
    {
     "data": {
      "text/plain": [
       "8"
      ]
     },
     "execution_count": 107,
     "metadata": {},
     "output_type": "execute_result"
    }
   ],
   "source": [
    "# Display the label of the 60,000th image (indexed at 59,999) from the training set.\n",
    "y_train[59999]"
   ]
  },
  {
   "cell_type": "markdown",
   "id": "4e293653",
   "metadata": {},
   "source": [
    "## 2. Preprocess the data\n",
    "\n",
    "Neural networks can work with inputs that are in a form of tensors (multidimensional arrays) of floating-point type. When preprocessing the data, you should consider the following processes: [vectorization](https://en.wikipedia.org/wiki/Vectorization_%28mathematics%29) and [conversion to a floating-point format](https://en.wikipedia.org/wiki/Floating-point_arithmetic#Floating-point_numbers).\n",
    "\n",
    "Since the MNIST data is already vectorized and the arrays are of `dtype` `uint8`, your next challenge is to convert them to a floating-point format, such as `float64` ([double-precision](https://en.wikipedia.org/wiki/Double-precision_floating-point_format)):\n",
    "\n",
    "- _Normalizing_ the image data: a [feature scaling](https://en.wikipedia.org/wiki/Feature_scaling#Application) procedure that can speed up the neural network training process by standardizing the [distribution of your input data](https://arxiv.org/pdf/1502.03167.pdf).\n",
    "- _[One-hot/categorical encoding](https://en.wikipedia.org/wiki/One-hot)_ of the image labels.\n",
    "\n",
    "In practice, you can use different types of floating-point precision depending on your goals and you can find more information about that in the [Nvidia](https://blogs.nvidia.com/blog/2019/11/15/whats-the-difference-between-single-double-multi-and-mixed-precision-computing/) and [Google Cloud](https://cloud.google.com/blog/products/ai-machine-learning/bfloat16-the-secret-to-high-performance-on-cloud-tpus) blog posts.\n",
    "\n",
    "### Convert the image data to the floating-point format\n",
    "\n",
    "The images data contain 8-bit integers encoded in the [0, 255] interval with color values between 0 and 255.\n",
    "\n",
    "You will normalize them into floating-point arrays in the [0, 1] interval by dividing them by 255.\n",
    "\n",
    "**1.** Check that the vectorized image data has type `uint8`:"
   ]
  },
  {
   "cell_type": "markdown",
   "id": "c552be85-574e-4a79-9b46-020f800fd557",
   "metadata": {},
   "source": [
    "### 데이터 벡터화 및 부동소수점 형식으로 변환:\n",
    "\n",
    "벡터화란 이미지를 1차원 배열로 변환하는 것을 의미합니다. 다행히, MNIST 데이터는 이미 벡터화된 상태로 제공되기 때문에 추가 벡터화가 필요하지 않습니다.\n",
    "부동소수점 형식으로 변환해야 하는 이유는, 신경망은 실수 값(예: float32, float64)으로 연산을 처리하기 때문입니다. 이 과정에서는 데이터를 uint8(부호 없는 8비트 정수)에서 부동소수점 실수(float)로 변환해야 합니다.\n",
    "\n",
    "### 데이터 정규화(Normalization):\n",
    "\n",
    "MNIST 이미지 데이터는 0에서 255 사이의 정수 값으로 구성되어 있습니다. 이는 픽셀의 밝기를 나타내며, 흑백 이미지에서 0은 검은색이고 255는 흰색을 의미합니다.\n",
    "정규화는 데이터를 0에서 1 사이의 값으로 변환하는 과정입니다. 이를 통해 신경망 학습 속도를 개선하고, 다양한 특성 간의 차이를 줄여 모델이 더 잘 학습할 수 있도록 도와줍니다.\n",
    "정규화를 위해서는 255로 나누어서 각 픽셀 값을 0~1 사이의 값으로 변환해야 합니다.\n",
    "\n",
    "### 원-핫 인코딩(One-hot encoding):\n",
    "\n",
    "MNIST 데이터셋의 레이블(숫자 0부터 9까지)은 정수 값으로 되어 있습니다. 신경망 모델은 이 레이블을 원-핫 인코딩 형식으로 변환해야 합니다. 원-핫 인코딩은 하나의 정수 레이블을 0과 1로 이루어진 벡터로 변환하는 방식입니다.\n",
    "예: 숫자 2 → [0, 0, 1, 0, 0, 0, 0, 0, 0, 0]\n",
    "신경망 모델은 이 벡터 형식으로 각 숫자를 예측하게 됩니다."
   ]
  },
  {
   "cell_type": "code",
   "execution_count": 111,
   "id": "90348b09",
   "metadata": {},
   "outputs": [
    {
     "name": "stdout",
     "output_type": "stream",
     "text": [
      "The data type of training images: uint8\n",
      "The data type of test images: uint8\n"
     ]
    }
   ],
   "source": [
    "print(\"The data type of training images: {}\".format(x_train.dtype))\n",
    "print(\"The data type of test images: {}\".format(x_test.dtype))"
   ]
  },
  {
   "cell_type": "markdown",
   "id": "33549a9e",
   "metadata": {},
   "source": [
    "**2.** Normalize the arrays by dividing them by 255 (and thus promoting the data type from `uint8` to `float64`) and then assign the train and test image data variables — `x_train` and `x_test` — to `training_images` and `train_labels`, respectively.\n",
    "To reduce the model training and evaluation time in this example, only a subset\n",
    "of the training and test images will be used.\n",
    "Both `training_images` and `test_images` will contain only 1,000 samples each out\n",
    "of the complete datasets of 60,000 and 10,000 images, respectively.\n",
    "These values can be controlled by changing the  `training_sample` and\n",
    "`test_sample` below, up to their maximum values of 60,000 and 10,000."
   ]
  },
  {
   "cell_type": "code",
   "execution_count": 272,
   "id": "1b36a3bd",
   "metadata": {},
   "outputs": [],
   "source": [
    "# 사용할 훈련 샘플과 테스트 샘플의 개수를 지정\n",
    "training_sample, test_sample = 1000, 1000\n",
    "training_images = x_train[0:training_sample] / 255\n",
    "test_images = x_test[0:test_sample] / 255"
   ]
  },
  {
   "cell_type": "markdown",
   "id": "cadbd235",
   "metadata": {},
   "source": [
    "**3.** Confirm that the image data has changed to the floating-point format:"
   ]
  },
  {
   "cell_type": "code",
   "execution_count": 117,
   "id": "264ebdb9",
   "metadata": {},
   "outputs": [
    {
     "name": "stdout",
     "output_type": "stream",
     "text": [
      "The data type of training images: float64\n",
      "The data type of test images: float64\n"
     ]
    }
   ],
   "source": [
    "print(\"The data type of training images: {}\".format(training_images.dtype))\n",
    "print(\"The data type of test images: {}\".format(test_images.dtype))"
   ]
  },
  {
   "cell_type": "markdown",
   "id": "8137d76f",
   "metadata": {},
   "source": [
    "> **Note:** You can also check that normalization was successful by printing `training_images[0]` in a notebook cell. Your long output should contain an array of floating-point numbers:\n",
    ">\n",
    "> ```\n",
    "> ...\n",
    ">        0.        , 0.        , 0.01176471, 0.07058824, 0.07058824,\n",
    ">        0.07058824, 0.49411765, 0.53333333, 0.68627451, 0.10196078,\n",
    ">        0.65098039, 1.        , 0.96862745, 0.49803922, 0.        ,\n",
    "> ...\n",
    "> ```\n",
    "\n",
    "### Convert the labels to floating point through categorical/one-hot encoding\n",
    "\n",
    "You will use one-hot encoding to embed each digit label as an all-zero vector with `np.zeros()` and place `1` for a label index. As a result, your label data will be arrays with `1.0` (or `1.`) in the position of each image label.\n",
    "\n",
    "Since there are 10 labels (from 0 to 9) in total, your arrays will look similar to this:\n",
    "\n",
    "```\n",
    "array([0., 0., 0., 0., 0., 1., 0., 0., 0., 0.])\n",
    "```\n",
    "\n",
    "**1.** Confirm that the image label data are integers with `dtype` `uint8`:"
   ]
  },
  {
   "cell_type": "code",
   "execution_count": 120,
   "id": "160cde11",
   "metadata": {},
   "outputs": [
    {
     "name": "stdout",
     "output_type": "stream",
     "text": [
      "The data type of training labels: uint8\n",
      "The data type of test labels: uint8\n"
     ]
    }
   ],
   "source": [
    "print(\"The data type of training labels: {}\".format(y_train.dtype))\n",
    "print(\"The data type of test labels: {}\".format(y_test.dtype))"
   ]
  },
  {
   "cell_type": "markdown",
   "id": "028e4c33",
   "metadata": {},
   "source": [
    "**2.** Define a function that performs one-hot encoding on arrays:"
   ]
  },
  {
   "cell_type": "markdown",
   "id": "0ac2a707-c115-4aa0-b228-c512b13d5789",
   "metadata": {},
   "source": [
    "labels[..., None]: labels 배열의 각 값(정수 레이블)에 대해 차원을 확장합니다.\n",
    "예를 들어, labels가 [2, 0, 1]이라면, 이 코드는 [[2], [0], [1]]처럼 차원을 확장합니다. 이는 나중에 브로드캐스팅을 하기 위한 준비입니다.\n",
    "np.arange(dimension)[None]:\n",
    "\n",
    "np.arange(dimension)은 [0, 1, 2, ..., dimension-1]의 배열을 만듭니다. 여기서 dimension=10이므로 [0, 1, 2, 3, 4, 5, 6, 7, 8, 9]라는 배열이 생성됩니다. [None]을 사용하여 차원을 확장합니다. 즉, [[0, 1, 2, ..., 9]] 같은 1차원 배열에서 2차원 배열로 만들어집니다.\n",
    "\n",
    "비교 연산: labels[..., None] == np.arange(dimension)[None]:\n",
    "labels의 각 요소를 np.arange(dimension)의 각 값과 비교합니다. 이 비교는 브로드캐스팅을 통해 이루어지며, 각 레이블 값과 0~9의 배열을 비교하여 해당 위치에 True 값을 반환합니다.\n",
    "예를 들어, labels = [2, 0, 1]인 경우, 이 코드는 다음과 같은 결과를 생성합니다:"
   ]
  },
  {
   "cell_type": "code",
   "execution_count": 274,
   "id": "1accca70",
   "metadata": {},
   "outputs": [],
   "source": [
    "def one_hot_encoding(labels, dimension=10):\n",
    "    # Define a one-hot variable for an all-zero vector\n",
    "    # with 10 dimensions (number labels from 0 to 9).\n",
    "    one_hot_labels = labels[..., None] == np.arange(dimension)[None]\n",
    "    # Return one-hot encoded labels.\n",
    "    return one_hot_labels.astype(np.float64)"
   ]
  },
  {
   "cell_type": "markdown",
   "id": "b1956e02",
   "metadata": {},
   "source": [
    "**3.** Encode the labels and assign the values to new variables:"
   ]
  },
  {
   "cell_type": "code",
   "execution_count": 276,
   "id": "e887700f",
   "metadata": {},
   "outputs": [],
   "source": [
    "training_labels = one_hot_encoding(y_train[:training_sample])\n",
    "test_labels = one_hot_encoding(y_test[:test_sample])"
   ]
  },
  {
   "cell_type": "markdown",
   "id": "249b2dfc",
   "metadata": {},
   "source": [
    "**4.** Check that the data type has changed to floating point:"
   ]
  },
  {
   "cell_type": "code",
   "execution_count": 130,
   "id": "79f0d38d",
   "metadata": {},
   "outputs": [
    {
     "name": "stdout",
     "output_type": "stream",
     "text": [
      "The data type of training labels: float64\n",
      "The data type of test labels: float64\n"
     ]
    }
   ],
   "source": [
    "print(\"The data type of training labels: {}\".format(training_labels.dtype))\n",
    "print(\"The data type of test labels: {}\".format(test_labels.dtype))"
   ]
  },
  {
   "cell_type": "markdown",
   "id": "7a1f864e",
   "metadata": {},
   "source": [
    "**5.** Examine a few encoded labels:"
   ]
  },
  {
   "cell_type": "code",
   "execution_count": 133,
   "id": "9f4b5825",
   "metadata": {},
   "outputs": [
    {
     "name": "stdout",
     "output_type": "stream",
     "text": [
      "[0. 0. 0. 0. 0. 1. 0. 0. 0. 0.]\n",
      "[1. 0. 0. 0. 0. 0. 0. 0. 0. 0.]\n",
      "[0. 0. 0. 0. 1. 0. 0. 0. 0. 0.]\n"
     ]
    }
   ],
   "source": [
    "print(training_labels[0])\n",
    "print(training_labels[1])\n",
    "print(training_labels[2])"
   ]
  },
  {
   "cell_type": "markdown",
   "id": "9dab2211",
   "metadata": {},
   "source": [
    "...and compare to the originals:"
   ]
  },
  {
   "cell_type": "code",
   "execution_count": 136,
   "id": "174519ca",
   "metadata": {},
   "outputs": [
    {
     "name": "stdout",
     "output_type": "stream",
     "text": [
      "5\n",
      "0\n",
      "4\n"
     ]
    }
   ],
   "source": [
    "print(y_train[0])\n",
    "print(y_train[1])\n",
    "print(y_train[2])"
   ]
  },
  {
   "cell_type": "markdown",
   "id": "9e924879",
   "metadata": {},
   "source": [
    "You have finished preparing the dataset.\n",
    "\n",
    "## 3. Build and train a small neural network from scratch\n",
    "\n",
    "In this section you will familiarize yourself with some high-level concepts of the basic building blocks of a deep learning model. You can refer to the original [Deep learning](http://www.cs.toronto.edu/~hinton/absps/NatureDeepReview.pdf) research publication for more information.\n",
    "\n",
    "Afterwards, you will construct the building blocks of a simple deep learning model in Python and NumPy and train it to learn to identify handwritten digits from the MNIST dataset with a certain level of accuracy.\n",
    "\n",
    "### Neural network building blocks with NumPy\n",
    "\n",
    "- _Layers_: These building blocks work as data filters — they process data and learn representations from inputs to better predict the target outputs.\n",
    "\n",
    "    You will use 1 hidden layer in your model to pass the inputs forward (_forward propagation_) and propagate the gradients/error derivatives of a loss function backward (_backpropagation_). These are input, hidden and output layers.\n",
    "\n",
    "    In the hidden (middle) and output (last) layers, the neural network model will compute the weighted sum of inputs. To compute this process, you will use NumPy's matrix multiplication function (the \"dot multiply\" or `np.dot(layer, weights)`).\n",
    "\n",
    "    > **Note:** For simplicity, the bias term is omitted in this example (there is no `np.dot(layer, weights) + bias`).\n",
    "\n",
    "- _Weights_: These are important adjustable parameters that the neural network fine-tunes by forward and backward propagating the data. They are optimized through a process called [gradient descent](https://en.wikipedia.org/wiki/Stochastic_gradient_descent). Before the model training starts, the weights are randomly initialized with NumPy's [`Generator.random()`](https://numpy.org/doc/stable/reference/random/generated/numpy.random.Generator.random.html).\n",
    "\n",
    "    The optimal weights should produce the highest prediction accuracy and the lowest error on the training and test sets.\n",
    "\n",
    "- _Activation function_: Deep learning models are capable of determining non-linear relationships between inputs and outputs and these [non-linear functions](https://en.wikipedia.org/wiki/Activation_function) are usually applied to the output of each layer.\n",
    "\n",
    "    You will use a [rectified linear unit (ReLU)](https://en.wikipedia.org/wiki/Rectifier_(neural_networks)) to the hidden layer's output (for example, `relu(np.dot(layer, weights))`.\n",
    "\n",
    "- _Regularization_: This [technique](https://en.wikipedia.org/wiki/Regularization_(mathematics)) helps prevent the neural network model from [overfitting](https://en.wikipedia.org/wiki/Overfitting).\n",
    "\n",
    "    In this example, you will use a method called dropout — [dilution](https://en.wikipedia.org/wiki/Dilution_(neural_networks)) — that randomly sets a number of features in a layer to 0s. You will define it with NumPy's [`Generator.integers()`](https://numpy.org/doc/stable/reference/random/generated/numpy.random.Generator.integers.html) method and apply it to the hidden layer of the network.\n",
    "\n",
    "- _Loss function_: The computation determines the quality of predictions by comparing the image labels (the truth) with the predicted values in the final layer's output.\n",
    "\n",
    "    For simplicity, you will use a basic total squared error using NumPy's `np.sum()` function (for example, `np.sum((final_layer_output - image_labels) ** 2)`).\n",
    "\n",
    "- _Accuracy_: This metric measures the accuracy of the network's ability to predict on the data it hasn't seen.\n",
    "\n",
    "### Model architecture and training summary\n",
    "\n",
    "Here is a summary of the neural network model architecture and the training process:\n",
    "\n",
    "\n",
    "![Diagram showing operations detailed in this tutorial (The input image\n",
    "is passed into a Hidden layer that creates a weighted sum of outputs.\n",
    "The weighted sum is passed to the Non-linearity, then regularization and\n",
    "into the output layer. The output layer creates a prediction which can\n",
    "then be compared to existing data. The errors are used to calculate the\n",
    "loss function and update weights in the hidden layer and output\n",
    "layer.)](_static/tutorial-deep-learning-on-mnist.png)\n",
    "\n",
    "- _The input layer_:\n",
    "\n",
    "    It is the input for the network — the previously preprocessed data that is loaded from `training_images` into `layer_0`.\n",
    "\n",
    "- _The hidden (middle) layer_:\n",
    "\n",
    "    `layer_1` takes the output from the previous layer and performs matrix-multiplication of the input by weights (`weights_1`) with NumPy's `np.dot()`).\n",
    "\n",
    "    Then, this output is passed through the ReLU activation function for non-linearity and then dropout is applied to help with overfitting.\n",
    "\n",
    "- _The output (last) layer_:\n",
    "\n",
    "    `layer_2` ingests the output from `layer_1` and repeats the same \"dot multiply\" process with `weights_2`.\n",
    "\n",
    "    The final output returns 10 scores for each of the 0-9 digit labels. The network model ends with a size 10 layer — a 10-dimensional vector.\n",
    "\n",
    "- _Forward propagation, backpropagation, training loop_:\n",
    "\n",
    "    In the beginning of model training, your network randomly initializes the weights and feeds the input data forward through the hidden and output layers. This process is the forward pass or forward propagation.\n",
    "\n",
    "    Then, the network propagates the \"signal\" from the loss function back through the hidden layer and adjusts the weights values with the help of the learning rate parameter (more on that later).\n",
    "\n",
    "> **Note:** In more technical terms, you:\n",
    ">\n",
    ">    1. Measure the error by comparing the real label of an image (the truth) with the prediction of the model.\n",
    ">    2. Differentiate the loss function.\n",
    ">    3. Ingest the [gradients](https://en.wikipedia.org/wiki/Gradient) with the respect to the output, and backpropagate them with the respect to the inputs through the layer(s).\n",
    ">\n",
    ">    Since the network contains tensor operations and weight matrices, backpropagation uses the [chain rule](https://en.wikipedia.org/wiki/Chain_rule).\n",
    ">\n",
    ">    With each iteration (epoch) of the neural network training, this forward and backward propagation cycle adjusts the weights, which is reflected in the accuracy and error metrics. As you train the model, your goal is to minimize the error and maximize the accuracy on the training data, where the model learns from, as well as the test data, where you evaluate the model.\n",
    "\n",
    "### Compose the model and begin training and testing it\n",
    "\n",
    "Having covered the main deep learning concepts and the neural network architecture, let's write the code.\n",
    "\n",
    "**1.** We'll start by creating a new random number generator, providing a seed\n",
    "for reproducibility:"
   ]
  },
  {
   "attachments": {
    "b45107b0-e0b0-4700-9f20-aa359d40ef52.png": {
     "image/png": "[encoded data removed]"
    }
   },
   "cell_type": "markdown",
   "id": "ea62f56b-713d-4d67-b1c4-0dab2360a39b",
   "metadata": {},
   "source": [
    "![image.png](attachment:b45107b0-e0b0-4700-9f20-aa359d40ef52.png)"
   ]
  },
  {
   "cell_type": "code",
   "execution_count": 278,
   "id": "25bdb93d",
   "metadata": {},
   "outputs": [],
   "source": [
    "seed = 884736743\n",
    "rng = np.random.default_rng(seed)"
   ]
  },
  {
   "cell_type": "markdown",
   "id": "13c2bab4",
   "metadata": {},
   "source": [
    "**2.** For the hidden layer, define the ReLU activation function for forward propagation and ReLU's derivative that will be used during backpropagation:"
   ]
  },
  {
   "cell_type": "code",
   "execution_count": 280,
   "id": "05e56c82",
   "metadata": {},
   "outputs": [],
   "source": [
    "# Define ReLU that returns the input if it's positive and 0 otherwise.\n",
    "def relu(x):\n",
    "    return (x >= 0) * x\n",
    "\n",
    "\n",
    "# Set up a derivative of the ReLU function that returns 1 for a positive input\n",
    "# and 0 otherwise.\n",
    "def relu2deriv(output):\n",
    "    return output >= 0"
   ]
  },
  {
   "cell_type": "code",
   "execution_count": 166,
   "id": "8d9a2829-23a9-40ee-a1d2-8c4fe1888b6e",
   "metadata": {},
   "outputs": [
    {
     "name": "stdout",
     "output_type": "stream",
     "text": [
      "[0 0 0 0 0 0 0 0 0 0 0 1 2 3 4 5 6 7 8 9]\n"
     ]
    },
    {
     "data": {
      "text/plain": [
       "[<matplotlib.lines.Line2D at 0x174ed028e90>]"
      ]
     },
     "execution_count": 166,
     "metadata": {},
     "output_type": "execute_result"
    },
    {
     "data": {
      "image/png": "[encoded data removed]",
      "text/plain": [
       "<Figure size 640x480 with 1 Axes>"
      ]
     },
     "metadata": {},
     "output_type": "display_data"
    }
   ],
   "source": [
    "a = np.arange(-10, 10)\n",
    "print(relu(a))\n",
    "plt.plot(relu(a))"
   ]
  },
  {
   "cell_type": "markdown",
   "id": "47a9cf8c",
   "metadata": {},
   "source": [
    "**3.** Set certain default values of [hyperparameters](https://en.wikipedia.org/wiki/Hyperparameter_(machine_learning)), such as:\n",
    "\n",
    "- [_Learning rate_](https://en.wikipedia.org/wiki/Learning_rate): `learning_rate` — helps limit the magnitude of weight updates to prevent them from overcorrecting.\n",
    "- _Epochs (iterations)_: `epochs` — the number of complete passes — forward and backward propagations — of the data through the network. This parameter can positively or negatively affect the results. The higher the iterations, the longer the learning process may take. Because this is a computationally intensive task, we have chosen a very low number of epochs (20). To get meaningful results, you should choose a much larger number.\n",
    "- _Size of the hidden (middle) layer in a network_: `hidden_size` — different sizes of the hidden layer can affect the results during training and testing.\n",
    "- _Size of the input:_ `pixels_per_image` — you have established that the image input is 784 (28x28) (in pixels).\n",
    "- _Number of labels_: `num_labels` — indicates the output number for the output layer where the predictions occur for 10 (0 to 9) handwritten digit labels."
   ]
  },
  {
   "cell_type": "code",
   "execution_count": 282,
   "id": "5f036c30",
   "metadata": {},
   "outputs": [],
   "source": [
    "learning_rate = 0.005  # 학습률 \n",
    "epochs = 20 # 학습 횟수\n",
    "hidden_size = 100 # 뉴런 개수 \n",
    "pixels_per_image = 784 # 이미지당 픽셀 수 \n",
    "num_labels = 10 # 0~9 10개"
   ]
  },
  {
   "cell_type": "markdown",
   "id": "e5d76aba",
   "metadata": {},
   "source": [
    "**4.** Initialize the weight vectors that will be used in the hidden and output layers with random values:"
   ]
  },
  {
   "cell_type": "code",
   "execution_count": 149,
   "id": "cb404ebf",
   "metadata": {},
   "outputs": [],
   "source": [
    "weights_1 = 0.2 * rng.random((pixels_per_image, hidden_size)) - 0.1\n",
    "weights_2 = 0.2 * rng.random((hidden_size, num_labels)) - 0.1\n",
    "\n",
    "\"\"\"\n",
    "크기가 (pixels_per_image, hidden_size)인 가중치 행렬을 무작위로 생성합니다. \n",
    "즉, 입력층에서 은닉층으로 가는 가중치입니다.\n",
    "**weights_1**는 입력층에서 은닉층으로 가는 가중치를 무작위로 초기화한 값입니다.\n",
    "**weights_2**는 은닉층에서 출력층으로 가는 가중치를 무작위로 초기화한 값입니다.\n",
    "\"\"\""
   ]
  },
  {
   "cell_type": "code",
   "execution_count": 172,
   "id": "93efad5c-1ff6-4cc6-ba41-9fabe924e45d",
   "metadata": {},
   "outputs": [
    {
     "data": {
      "text/plain": [
       "(784, 100)"
      ]
     },
     "execution_count": 172,
     "metadata": {},
     "output_type": "execute_result"
    }
   ],
   "source": [
    "weights_1\n",
    "weights_1.shape # 은닉층 노드 수"
   ]
  },
  {
   "cell_type": "code",
   "execution_count": 258,
   "id": "f138aaa0-08a7-47b7-aabc-05fc11e03127",
   "metadata": {},
   "outputs": [],
   "source": [
    "# i = 0\n",
    "# layer_0 = training_images[i]\n",
    "# layer_0"
   ]
  },
  {
   "cell_type": "markdown",
   "id": "ddad6ec4",
   "metadata": {},
   "source": [
    "**5.** Set up the neural network's learning experiment with a training loop and start the training process.\n",
    "Note that the model is evaluated against the test set at each epoch to track\n",
    "its performance over the training epochs.\n",
    "\n",
    "Start the training process:"
   ]
  },
  {
   "cell_type": "code",
   "execution_count": 206,
   "id": "b76897b4-535f-47bf-a717-134e92e69a11",
   "metadata": {},
   "outputs": [
    {
     "data": {
      "text/plain": [
       "array([1.65220085e-03, 4.83057565e-04, 1.36993006e-05, 6.97815977e-04,\n",
       "       1.17956022e-01, 9.55213609e-01, 3.96326246e-01, 1.41981064e-04,\n",
       "       9.90429759e-06, 2.09474087e-03])"
      ]
     },
     "execution_count": 206,
     "metadata": {},
     "output_type": "execute_result"
    }
   ],
   "source": [
    "training_labels[i] \n",
    "training_labels[i] - layer_2\n",
    "(training_labels[i] - layer_2)**2"
   ]
  },
  {
   "cell_type": "code",
   "execution_count": 208,
   "id": "286495f0-4b6a-4484-aaf8-28900e202abc",
   "metadata": {},
   "outputs": [
    {
     "data": {
      "text/plain": [
       "1.4745892771135642"
      ]
     },
     "execution_count": 208,
     "metadata": {},
     "output_type": "execute_result"
    }
   ],
   "source": [
    "# 훈련 오차\n",
    "training_loss = 0.0\n",
    "training_loss += np.sum((training_labels[i] - layer_2) ** 2)\n",
    "training_loss"
   ]
  },
  {
   "cell_type": "code",
   "execution_count": 222,
   "id": "bd38fbd2-b552-4bba-b53e-c4459b00e38c",
   "metadata": {},
   "outputs": [
    {
     "data": {
      "text/plain": [
       "6"
      ]
     },
     "execution_count": 222,
     "metadata": {},
     "output_type": "execute_result"
    }
   ],
   "source": [
    "# 예측값 - np.argmax(리스트) - 가장 큰 수 반환\n",
    "np.argmax(layer_2)"
   ]
  },
  {
   "cell_type": "code",
   "execution_count": 224,
   "id": "2b163730-41a6-4d73-b54c-0fcf6964752e",
   "metadata": {},
   "outputs": [
    {
     "data": {
      "text/plain": [
       "5"
      ]
     },
     "execution_count": 224,
     "metadata": {},
     "output_type": "execute_result"
    }
   ],
   "source": [
    "# 실제값\n",
    "np.argmax(training_labels[i])"
   ]
  },
  {
   "cell_type": "code",
   "execution_count": 226,
   "id": "fb6659dd-8eb9-4ad9-8b31-4a45506346c3",
   "metadata": {},
   "outputs": [
    {
     "data": {
      "text/plain": [
       "False"
      ]
     },
     "execution_count": 226,
     "metadata": {},
     "output_type": "execute_result"
    }
   ],
   "source": [
    "np.argmax(layer_2) == np.argmax(training_labels[i])"
   ]
  },
  {
   "cell_type": "code",
   "execution_count": 230,
   "id": "ae6bc1e9-cb8d-4ff8-9dc0-5576e1f4c858",
   "metadata": {},
   "outputs": [
    {
     "data": {
      "text/plain": [
       "(1000, 784)"
      ]
     },
     "execution_count": 230,
     "metadata": {},
     "output_type": "execute_result"
    }
   ],
   "source": [
    "test_images.shape"
   ]
  },
  {
   "cell_type": "code",
   "execution_count": 232,
   "id": "44bd76a7-aeef-4971-9a75-ba0b1f90af2a",
   "metadata": {},
   "outputs": [
    {
     "data": {
      "text/plain": [
       "(784, 100)"
      ]
     },
     "execution_count": 232,
     "metadata": {},
     "output_type": "execute_result"
    }
   ],
   "source": [
    "weights_1.shape"
   ]
  },
  {
   "cell_type": "code",
   "execution_count": 234,
   "id": "d3202cd2-73e3-4632-8b6c-1adee5b0b724",
   "metadata": {},
   "outputs": [
    {
     "data": {
      "text/plain": [
       "(100, 10)"
      ]
     },
     "execution_count": 234,
     "metadata": {},
     "output_type": "execute_result"
    }
   ],
   "source": [
    "weights_2.shape"
   ]
  },
  {
   "cell_type": "code",
   "execution_count": 228,
   "id": "d30878ff-ca95-4f7d-b025-e3c6c4b4f4f7",
   "metadata": {},
   "outputs": [],
   "source": [
    "results = relu(test_images @ weights_1) @ weights_2 # 행렬곱 연산"
   ]
  },
  {
   "cell_type": "code",
   "execution_count": 254,
   "id": "967de379-6c90-49cb-af09-b81e640265a2",
   "metadata": {},
   "outputs": [],
   "source": [
    "# np.argmax(test_labels, axis=1)"
   ]
  },
  {
   "cell_type": "code",
   "execution_count": 256,
   "id": "a852cf08-a534-4b31-ab27-3cbcd09f8e99",
   "metadata": {},
   "outputs": [],
   "source": [
    "# np.argmax(results, axis=1)"
   ]
  },
  {
   "cell_type": "code",
   "execution_count": 252,
   "id": "ca38250f-75ba-4694-9fec-98a36277cc47",
   "metadata": {},
   "outputs": [
    {
     "data": {
      "text/plain": [
       "80.10000000000001"
      ]
     },
     "execution_count": 252,
     "metadata": {},
     "output_type": "execute_result"
    }
   ],
   "source": [
    "# 예측값과 실제값 비교\n",
    "np.argmax(results, axis=1) == np.argmax(test_labels, axis=1)\n",
    "np.sum(np.argmax(results, axis=1) == np.argmax(test_labels, axis=1))\n",
    "np.sum(np.argmax(results, axis=1) != np.argmax(test_labels, axis=1))\n",
    "np.mean(np.argmax(results, axis=1) == np.argmax(test_labels, axis=1)) * 100"
   ]
  },
  {
   "cell_type": "code",
   "execution_count": 288,
   "id": "dc34869a-7677-472d-ae85-9a65a8854fbe",
   "metadata": {},
   "outputs": [],
   "source": [
    "learning_rate = 0.005  # 학습률 \n",
    "epochs = 20 # 학습 횟수\n",
    "hidden_size = 100 # 뉴런 개수 \n",
    "pixels_per_image = 784 # 이미지당 픽셀 수 \n",
    "num_labels = 10 # 0~9 10개"
   ]
  },
  {
   "cell_type": "code",
   "execution_count": 290,
   "id": "281e38a6",
   "metadata": {},
   "outputs": [
    {
     "name": "stdout",
     "output_type": "stream",
     "text": [
      "Epoch: 0\n",
      "  Training set error: 0.319\n",
      "  Training set accuracy: 0.889\n",
      "  Test set error: 0.413\n",
      "  Test set accuracy: 0.807\n",
      "Epoch: 1\n",
      "  Training set error: 0.325\n",
      "  Training set accuracy: 0.896\n",
      "  Test set error: 0.412\n",
      "  Test set accuracy: 0.808\n",
      "Epoch: 2\n",
      "  Training set error: 0.329\n",
      "  Training set accuracy: 0.891\n",
      "  Test set error: 0.415\n",
      "  Test set accuracy: 0.804\n",
      "Epoch: 3\n",
      "  Training set error: 0.329\n",
      "  Training set accuracy: 0.89\n",
      "  Test set error: 0.415\n",
      "  Test set accuracy: 0.807\n",
      "Epoch: 4\n",
      "  Training set error: 0.318\n",
      "  Training set accuracy: 0.897\n",
      "  Test set error: 0.424\n",
      "  Test set accuracy: 0.808\n",
      "Epoch: 5\n",
      "  Training set error: 0.322\n",
      "  Training set accuracy: 0.9\n",
      "  Test set error: 0.416\n",
      "  Test set accuracy: 0.809\n",
      "Epoch: 6\n",
      "  Training set error: 0.325\n",
      "  Training set accuracy: 0.891\n",
      "  Test set error: 0.424\n",
      "  Test set accuracy: 0.808\n",
      "Epoch: 7\n",
      "  Training set error: 0.327\n",
      "  Training set accuracy: 0.888\n",
      "  Test set error: 0.413\n",
      "  Test set accuracy: 0.813\n",
      "Epoch: 8\n",
      "  Training set error: 0.320\n",
      "  Training set accuracy: 0.89\n",
      "  Test set error: 0.416\n",
      "  Test set accuracy: 0.812\n",
      "Epoch: 9\n",
      "  Training set error: 0.326\n",
      "  Training set accuracy: 0.9\n",
      "  Test set error: 0.414\n",
      "  Test set accuracy: 0.804\n",
      "Epoch: 10\n",
      "  Training set error: 0.325\n",
      "  Training set accuracy: 0.883\n",
      "  Test set error: 0.414\n",
      "  Test set accuracy: 0.811\n",
      "Epoch: 11\n",
      "  Training set error: 0.326\n",
      "  Training set accuracy: 0.885\n",
      "  Test set error: 0.426\n",
      "  Test set accuracy: 0.813\n",
      "Epoch: 12\n",
      "  Training set error: 0.325\n",
      "  Training set accuracy: 0.893\n",
      "  Test set error: 0.414\n",
      "  Test set accuracy: 0.81\n",
      "Epoch: 13\n",
      "  Training set error: 0.326\n",
      "  Training set accuracy: 0.889\n",
      "  Test set error: 0.418\n",
      "  Test set accuracy: 0.807\n",
      "Epoch: 14\n",
      "  Training set error: 0.333\n",
      "  Training set accuracy: 0.887\n",
      "  Test set error: 0.415\n",
      "  Test set accuracy: 0.809\n",
      "Epoch: 15\n",
      "  Training set error: 0.320\n",
      "  Training set accuracy: 0.889\n",
      "  Test set error: 0.414\n",
      "  Test set accuracy: 0.811\n",
      "Epoch: 16\n",
      "  Training set error: 0.346\n",
      "  Training set accuracy: 0.876\n",
      "  Test set error: 0.424\n",
      "  Test set accuracy: 0.807\n",
      "Epoch: 17\n",
      "  Training set error: 0.325\n",
      "  Training set accuracy: 0.901\n",
      "  Test set error: 0.424\n",
      "  Test set accuracy: 0.809\n",
      "Epoch: 18\n",
      "  Training set error: 0.330\n",
      "  Training set accuracy: 0.891\n",
      "  Test set error: 0.421\n",
      "  Test set accuracy: 0.813\n",
      "Epoch: 19\n",
      "  Training set error: 0.330\n",
      "  Training set accuracy: 0.891\n",
      "  Test set error: 0.421\n",
      "  Test set accuracy: 0.81\n"
     ]
    },
    {
     "name": "stdout",
     "output_type": "stream",
     "text": [
      "Epoch: 8\n",
      "  Training set error: 0.473\n",
      "  Training set accuracy: 0.776\n",
      "  Test set error: 0.473\n",
      "  Test set accuracy: 0.752\n"
     ]
    },
    {
     "name": "stdout",
     "output_type": "stream",
     "text": [
      "Epoch: 9\n",
      "  Training set error: 0.460\n",
      "  Training set accuracy: 0.788\n",
      "  Test set error: 0.462\n",
      "  Test set accuracy: 0.762\n"
     ]
    },
    {
     "name": "stdout",
     "output_type": "stream",
     "text": [
      "Epoch: 10\n",
      "  Training set error: 0.465\n",
      "  Training set accuracy: 0.769\n",
      "  Test set error: 0.462\n",
      "  Test set accuracy: 0.767\n"
     ]
    },
    {
     "name": "stdout",
     "output_type": "stream",
     "text": [
      "Epoch: 11\n",
      "  Training set error: 0.443\n",
      "  Training set accuracy: 0.801\n",
      "  Test set error: 0.456\n",
      "  Test set accuracy: 0.775\n"
     ]
    },
    {
     "name": "stdout",
     "output_type": "stream",
     "text": [
      "Epoch: 12\n",
      "  Training set error: 0.448\n",
      "  Training set accuracy: 0.795\n",
      "  Test set error: 0.455\n",
      "  Test set accuracy: 0.772\n"
     ]
    },
    {
     "name": "stdout",
     "output_type": "stream",
     "text": [
      "Epoch: 13\n",
      "  Training set error: 0.438\n",
      "  Training set accuracy: 0.787\n",
      "  Test set error: 0.453\n",
      "  Test set accuracy: 0.778\n"
     ]
    },
    {
     "name": "stdout",
     "output_type": "stream",
     "text": [
      "Epoch: 14\n",
      "  Training set error: 0.446\n",
      "  Training set accuracy: 0.791\n",
      "  Test set error: 0.450\n",
      "  Test set accuracy: 0.779\n"
     ]
    },
    {
     "name": "stdout",
     "output_type": "stream",
     "text": [
      "Epoch: 15\n",
      "  Training set error: 0.441\n",
      "  Training set accuracy: 0.788\n",
      "  Test set error: 0.452\n",
      "  Test set accuracy: 0.772\n"
     ]
    },
    {
     "name": "stdout",
     "output_type": "stream",
     "text": [
      "Epoch: 16\n",
      "  Training set error: 0.437\n",
      "  Training set accuracy: 0.786\n",
      "  Test set error: 0.453\n",
      "  Test set accuracy: 0.772\n"
     ]
    },
    {
     "name": "stdout",
     "output_type": "stream",
     "text": [
      "Epoch: 17\n",
      "  Training set error: 0.436\n",
      "  Training set accuracy: 0.794\n",
      "  Test set error: 0.449\n",
      "  Test set accuracy: 0.778\n"
     ]
    },
    {
     "name": "stdout",
     "output_type": "stream",
     "text": [
      "Epoch: 18\n",
      "  Training set error: 0.433\n",
      "  Training set accuracy: 0.801\n",
      "  Test set error: 0.450\n",
      "  Test set accuracy: 0.774\n"
     ]
    },
    {
     "name": "stdout",
     "output_type": "stream",
     "text": [
      "Epoch: 19\n",
      "  Training set error: 0.429\n",
      "  Training set accuracy: 0.785\n",
      "  Test set error: 0.436\n",
      "  Test set accuracy: 0.784\n"
     ]
    }
   ],
   "source": [
    "# To store training and test set losses and accurate predictions\n",
    "# for visualization.\n",
    "store_training_loss = [] # 훈련 오차(손실)\n",
    "store_training_accurate_pred = [] #예측 정확도 \n",
    "store_test_loss = [] \n",
    "store_test_accurate_pred = []\n",
    "\"\"\"\n",
    "손실 및 정확도 저장 리스트:\n",
    "store_training_loss: 훈련 손실을 저장합니다.\n",
    "store_training_accurate_pred: 훈련 데이터에서 정확한 예측 수를 저장합니다.\n",
    "store_test_loss: 테스트 손실을 저장합니다.\n",
    "store_test_accurate_pred: 테스트 데이터에서 정확한 예측 수를 저장합니다.\n",
    "\"\"\"\n",
    "\n",
    "\n",
    "# 훈련 루프\n",
    "# 정의된 에포크(반복) 횟수만큼 학습 실험을 실행\n",
    "for j in range(epochs):\n",
    "\n",
    "    #################\n",
    "    # 훈련 단계 #\n",
    "    #################\n",
    "\n",
    "    # 초기 손실/오차와 정확한 예측 수를 0으로 설정합니다.\n",
    "    training_loss = 0.0\n",
    "    training_accurate_predictions = 0\n",
    "\n",
    "    # 훈련 세트의 모든 이미지에 대해 순전파를 수행하고\n",
    "    # 역전파를 통해 가중치를 조정합니다.\n",
    "    for i in range(len(training_images)):\n",
    "        # 순전파:\n",
    "        # 1. 입력층:\n",
    "        #    훈련 이미지 데이터를 입력으로 초기화합니다.\n",
    "        layer_0 = training_images[i] \n",
    "        # 2. 은닉층:\n",
    "        #    훈련 이미지 데이터를 은닉층에 전달하며, \n",
    "        #    가중치와 행렬 곱셈을 통해 계산합니다.\n",
    "        layer_1 = np.dot(layer_0, weights_1)\n",
    "        # 3. 은닉층의 출력을 ReLU 활성화 함수에 통과시킵니다.\n",
    "        layer_1 = relu(layer_1)\n",
    "        # 4. 정규화를 위해 드롭아웃 함수를 정의합니다.\n",
    "        dropout_mask = rng.integers(low=0, high=2, size=layer_1.shape)\n",
    "        # 5. 은닉층의 출력에 드롭아웃을 적용합니다.\n",
    "        layer_1 *= dropout_mask * 2\n",
    "        # 6. 출력층:\n",
    "        #    은닉층의 출력을 최종 출력층에 전달하며\n",
    "        #    가중치와 행렬 곱셈을 수행합니다.\n",
    "        #    10개의 스코어를 가진 10차원 벡터를 생성합니다.\n",
    "        layer_2 = np.dot(layer_1, weights_2)\n",
    "\n",
    "        \"\"\"\n",
    "        역전파 과정:\n",
    "        layer_2_delta: 출력층의 오차를 계산합니다. 이 오차는 출력 값과 실제 값의 차이입니다.\n",
    "        layer_1_delta: 은닉층에서의 오차를 계산하여 역전파합니다. 여기서 ReLU의 도함수(relu2deriv())를 사용하여 오차를 은닉층으로 전파합니다.\n",
    "        가중치 업데이트: **weights_1**과 **weights_2**는 학습률과 각 레이어의 오차(layer_1_delta, layer_2_delta)에 따라 업데이트됩니다.\n",
    "        \"\"\"\n",
    "        # 역전파:\n",
    "        # 1. 실제 이미지 레이블(정답)과 모델의 예측 값 간의\n",
    "        #    손실 함수(오차)를 측정합니다.\n",
    "      \n",
    "        training_loss += np.sum((training_labels[i] - layer_2) ** 2)  # 실제 레이블(training_labels[i]) 간의 차이를 계산, 제곱을 합산하는 방식으로 손실\n",
    "        # 2. 정확한 예측 수를 증가시킵니다.\n",
    "        \n",
    "        training_accurate_predictions += int(\n",
    "            np.argmax(layer_2) == np.argmax(training_labels[i]) #즉, 모델이 훈련 데이터에서 올바르게 예측한 샘플 수를 기록\n",
    "            #*np.argmax(layer_2)**는 이 벡터에서 가장 큰 값의 인덱스(즉, 가장 높은 확률을 가지는 숫자)를 반환\n",
    "        )\n",
    "        # 3. 손실 함수/오차를 미분합니다.\n",
    "        layer_2_delta = training_labels[i] - layer_2 # 출력층에서의 오차를 계산하는 단계로, 모델의 예측 값과 실제 레이블의 차이\n",
    "        # 4. 손실 함수의 기울기를 은닉층을 통해 역전파합니다.\n",
    "        layer_1_delta = np.dot(weights_2, layer_2_delta) * relu2deriv(layer_1) #출력층의 오차(delta)를 은닉층으로 전파, relu2deriv(layer_1)는 은닉층에서 사용된 ReLU 함수의 도함수\n",
    "        # ReLU 함수의 도함수와 출력층에서 전파된 오차를 곱하여 은닉층에서의 최종 오차(layer_1_delta)를 계산\n",
    "        # 5. 드롭아웃을 기울기에 적용합니다.\n",
    "        layer_1_delta *= dropout_mask\n",
    "        # **dropout_mask**는 은닉층에 드롭아웃을 적용하기 위해 사용되는 마스크(mask) -> 0과 1로 이루어진 배열로, 은닉층의 각 뉴런에 대해 해당 뉴런이 활성화 여부를 나타냅니다.\n",
    "        # 6. 은닉층 및 입력층의 가중치를\n",
    "        #    학습률과 기울기 값을 곱하여 업데이트합니다.\n",
    "        weights_1 += learning_rate * np.outer(layer_0, layer_1_delta)\n",
    "        weights_2 += learning_rate * np.outer(layer_1, layer_2_delta)\n",
    "\n",
    "    # 훈련 세트 손실 및 정확한 예측을 저장합니다.\n",
    "    store_training_loss.append(training_loss)\n",
    "    store_training_accurate_pred.append(training_accurate_predictions)\n",
    "\n",
    "    ###################\n",
    "    # 평가 단계 #\n",
    "    ###################\n",
    "\n",
    "    # 각 에포크마다 테스트 세트에서 모델 성능을 평가합니다.\n",
    "\n",
    "    # 훈련 단계와 달리, 테스트 단계에서는 각 이미지마다\n",
    "    # (또는 배치마다) 가중치가 수정되지 않습니다. 따라서 테스트 이미지에\n",
    "    # 모델을 적용할 때 개별 이미지를 순회할 필요 없이\n",
    "    # 벡터화된 방식으로 처리할 수 있습니다.\n",
    "\n",
    "    results = relu(test_images @ weights_1) @ weights_2\n",
    "    \"\"\"\n",
    "    # 가정: 1,000개의 테스트 이미지, 은닉층에 128개의 뉴런이 있음\n",
    "    test_images.shape = (1000, 784)  # 1,000개의 이미지, 각 이미지가 784개의 픽셀로 표현됨\n",
    "    weights_1.shape = (784, 128)     # 입력층과 은닉층을 연결하는 가중치\n",
    "    weights_2.shape = (128, 10)      # 은닉층과 출력층을 연결하는 가중치\n",
    "    \n",
    "    # 순전파 예측:\n",
    "    results = relu(test_images @ weights_1) @ weights_2\n",
    "    # 결과: (1000, 10) 크기의 행렬, 각 테스트 이미지에 대해 10개의 예측 점수가 나옴\n",
    "    \"\"\"\n",
    "    # 실제 레이블(정답)과 예측 값 간의 오차를 측정합니다.\n",
    "    test_loss = np.sum((test_labels - results) ** 2)\n",
    "\n",
    "    # 테스트 세트에서 예측 정확도를 측정합니다.\n",
    "    test_accurate_predictions = np.sum(\n",
    "        np.argmax(results, axis=1) == np.argmax(test_labels, axis=1)\n",
    "    )\n",
    "\n",
    "    # 테스트 세트 손실 및 정확한 예측을 저장합니다.\n",
    "    store_test_loss.append(test_loss)\n",
    "    store_test_accurate_pred.append(test_accurate_predictions)\n",
    "\n",
    "    # 각 에포크마다 오차와 정확도 지표를 요약하여 출력합니다.\n",
    "    print(\n",
    "        (\n",
    "            f\"Epoch: {j}\\n\"\n",
    "            f\"  Training set error: {training_loss / len(training_images):.3f}\\n\"\n",
    "            f\"  Training set accuracy: {training_accurate_predictions / len(training_images)}\\n\"\n",
    "            f\"  Test set error: {test_loss / len(test_images):.3f}\\n\"\n",
    "            f\"  Test set accuracy: {test_accurate_predictions / len(test_images)}\"\n",
    "        )\n",
    "    )"
   ]
  },
  {
   "cell_type": "code",
   "execution_count": 190,
   "id": "49ec7ddb-46dd-4e88-8174-bf1cc761480b",
   "metadata": {},
   "outputs": [
    {
     "name": "stdout",
     "output_type": "stream",
     "text": [
      "(100,) (100, 10)\n"
     ]
    },
    {
     "data": {
      "text/plain": [
       "(10,)"
      ]
     },
     "execution_count": 190,
     "metadata": {},
     "output_type": "execute_result"
    }
   ],
   "source": [
    "print(layer_1.shape, weights_2.shape)\n",
    "layer_2 = np.dot(layer_1, weights_2)\n",
    "layer_2.shape"
   ]
  },
  {
   "cell_type": "code",
   "execution_count": 192,
   "id": "2989e76f-ad73-4e3c-a890-406d9dc7fe25",
   "metadata": {},
   "outputs": [
    {
     "name": "stdout",
     "output_type": "stream",
     "text": [
      "[-0.04064727  0.02197857 -0.00370126 -0.02641621  0.34344726  0.0226497\n",
      "  0.62954447  0.01191558  0.00314711  0.04576834]\n"
     ]
    },
    {
     "data": {
      "text/plain": [
       "[<matplotlib.lines.Line2D at 0x174ed1256d0>]"
      ]
     },
     "execution_count": 192,
     "metadata": {},
     "output_type": "execute_result"
    },
    {
     "data": {
      "image/png": "[encoded data removed]",
      "text/plain": [
       "<Figure size 640x480 with 1 Axes>"
      ]
     },
     "metadata": {},
     "output_type": "display_data"
    }
   ],
   "source": [
    "print(layer_2)\n",
    "plt.plot(layer_2)"
   ]
  },
  {
   "cell_type": "markdown",
   "id": "c2f2c87c",
   "metadata": {},
   "source": [
    "The training process may take many minutes, depending on a number of factors, such as the processing power of the machine you are running the experiment on and the number of epochs. To reduce the waiting time, you can change the epoch (iteration) variable from 100 to a lower number, reset the runtime (which will reset the weights), and run the notebook cells again."
   ]
  },
  {
   "cell_type": "markdown",
   "id": "d975b577",
   "metadata": {},
   "source": [
    "After executing the cell above, you can visualize the training and test set errors and accuracy for an instance of this training process."
   ]
  },
  {
   "cell_type": "code",
   "execution_count": 292,
   "id": "3a1ec55f",
   "metadata": {},
   "outputs": [
    {
     "data": {
      "image/png": "[encoded data removed]",
      "text/plain": [
       "<Figure size 1500x500 with 2 Axes>"
      ]
     },
     "metadata": {},
     "output_type": "display_data"
    }
   ],
   "source": [
    "epoch_range = np.arange(epochs) + 1  # Starting from 1\n",
    "\n",
    "# The training set metrics.\n",
    "training_metrics = {\n",
    "    \"accuracy\": np.asarray(store_training_accurate_pred) / len(training_images),\n",
    "    \"error\": np.asarray(store_training_loss) / len(training_images),\n",
    "}\n",
    "\n",
    "# The test set metrics.\n",
    "test_metrics = {\n",
    "    \"accuracy\": np.asarray(store_test_accurate_pred) / len(test_images),\n",
    "    \"error\": np.asarray(store_test_loss) / len(test_images),\n",
    "}\n",
    "\n",
    "# Display the plots.\n",
    "fig, axes = plt.subplots(nrows=1, ncols=2, figsize=(15, 5))\n",
    "for ax, metrics, title in zip(\n",
    "    axes, (training_metrics, test_metrics), (\"Training set\", \"Test set\")\n",
    "):\n",
    "    # Plot the metrics\n",
    "    for metric, values in metrics.items():\n",
    "        ax.plot(epoch_range, values, label=metric.capitalize())\n",
    "    ax.set_title(title)\n",
    "    ax.set_xlabel(\"Epochs\")\n",
    "    ax.legend()\n",
    "plt.show()"
   ]
  },
  {
   "cell_type": "markdown",
   "id": "0fcbc467",
   "metadata": {},
   "source": [
    "_The training and testing error is shown above in the left and right\n",
    "plots, respectively. As the number of Epochs increases, the total error\n",
    "decreases and the accuracy increases._\n",
    "\n",
    "The accuracy rates that your model reaches during training and testing may be somewhat plausible but you may also find the error rates to be quite high.\n",
    "\n",
    "To reduce the error during training and testing, you can consider changing the simple loss function to, for example, categorical [cross-entropy](https://en.wikipedia.org/wiki/Cross_entropy). Other possible solutions are discussed below.\n",
    "\n",
    "## Next steps\n",
    "\n",
    "You have learned how to build and train a simple feed-forward neural network from scratch using just NumPy to classify handwritten MNIST digits.\n",
    "\n",
    "To further enhance and optimize your neural network model, you can consider one of a mixture of the following:\n",
    "- Increase the training sample size from 1,000 to a higher number (up to 60,000).\n",
    "- Use [mini-batches and reduce the learning rate](http://www.cs.toronto.edu/~tijmen/csc321/slides/lecture_slides_lec6.pdf).\n",
    "- Alter the architecture by introducing more hidden layers to make the network [deeper](https://en.wikipedia.org/wiki/Deep_learning).\n",
    "- Combine the [cross-entropy](https://en.wikipedia.org/wiki/Cross_entropy) loss function with a [softmax](https://en.wikipedia.org/wiki/Softmax_function) activation function in the last layer.\n",
    "- Introduce convolutional layers: replace the feedforward network with a [convolutional neural network](https://en.wikipedia.org/wiki/Convolutional_neural_network) architecture.\n",
    "- Use a higher epoch size to train longer and add more regularization techniques, such as [early stopping](https://en.wikipedia.org/wiki/Early_stopping), to prevent [overfitting](https://en.wikipedia.org/wiki/Overfitting).\n",
    "- Introduce a [validation set](https://en.wikipedia.org/wiki/Training,_validation,_and_test_sets) for an unbiased valuation of the model fit.\n",
    "- Apply [batch normalization](https://en.wikipedia.org/wiki/Batch_normalization) for faster and more stable training.\n",
    "- Tune other parameters, such as the learning rate and hidden layer size.\n",
    "\n",
    "Building a neural network from scratch with NumPy is a great way to learn more about NumPy and about deep learning. However, for real-world applications you should use specialized frameworks — such as [PyTorch](https://pytorch.org/), [JAX](https://github.com/google/jax), [TensorFlow](https://www.tensorflow.org/guide/tf_numpy) or [MXNet](https://mxnet.apache.org) — that provide NumPy-like APIs, have built-in [automatic differentiation](https://en.wikipedia.org/wiki/Automatic_differentiation) and GPU support, and are designed for high-performance numerical computing and machine learning.\n",
    "\n",
    "Finally, when developing a machine learning model, you should think about potential ethical issues and apply practices to avoid or mitigate those:\n",
    "- Document a trained model with a Model Card - see the [Model Cards for Model Reporting paper](https://doi.org/10.1145/3287560.3287596) by Margaret Mitchell et al..\n",
    "- Document a dataset with a Datasheet - see the [Datasheets for Datasets paper](https://arxiv.org/abs/1803.09010)) by Timnit Gebru et al..\n",
    "- Consider the impact of your model - who is affected by it, who does it benefit - see [the article](https://www.nature.com/articles/d41586-020-02003-2) and [talk](https://slideslive.com/38923453/the-values-of-machine-learning) by Pratyusha Kalluri.\n",
    "- For more resources, see [this blog post by Rachel Thomas](https://www.fast.ai/2018/09/24/ai-ethics-resources/) and the [Radical AI podcast](https://www.radicalai.org/).\n",
    "\n",
    "(Credit to [hsjeong5](https://github.com/hsjeong5/MNIST-for-Numpy) for demonstrating how to download MNIST without the use of external libraries.)"
   ]
  }
 ],
 "metadata": {
  "jupytext": {
   "text_representation": {
    "extension": ".md",
    "format_name": "myst",
    "format_version": 0.13,
    "jupytext_version": "1.11.1"
   }
  },
  "kernelspec": {
   "display_name": "Python 3 (ipykernel)",
   "language": "python",
   "name": "python3"
  },
  "language_info": {
   "codemirror_mode": {
    "name": "ipython",
    "version": 3
   },
   "file_extension": ".py",
   "mimetype": "text/x-python",
   "name": "python",
   "nbconvert_exporter": "python",
   "pygments_lexer": "ipython3",
   "version": "3.12.4"
  },
  "source_map": [
   12,
   69,
   76,
   81,
   95,
   113,
   117,
   133,
   137,
   144,
   148,
   159,
   163,
   175,
   184,
   200,
   203,
   224,
   227,
   237,
   241,
   245,
   248,
   272,
   275,
   279,
   286,
   290,
   293,
   297,
   300,
   304,
   308,
   312,
   316,
   406,
   409,
   413,
   423,
   433,
   439,
   443,
   446,
   454,
   555,
   559,
   563,
   590
  ]
 },
 "nbformat": 4,
 "nbformat_minor": 5
}
