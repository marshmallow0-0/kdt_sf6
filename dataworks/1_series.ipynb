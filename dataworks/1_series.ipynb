{
 "cells": [
  {
   "cell_type": "markdown",
   "id": "534cb5e8-5afd-47ab-a36a-fb9a070a5702",
   "metadata": {},
   "source": [
    "#### Series 클래스 - 데이터(리스트, 튜플, 딕셔너리)가 순차적으로 나열된 1차원 리스트의 형태를 갖는다."
   ]
  },
  {
   "cell_type": "code",
   "execution_count": 9,
   "id": "41164108-95d7-45fd-8ec4-52bd8ba9be84",
   "metadata": {},
   "outputs": [],
   "source": [
    "%config Completer.use_jedi = False"
   ]
  },
  {
   "cell_type": "code",
   "execution_count": 16,
   "id": "4bd2085e-3ac4-4d1a-8604-968e645f4a1d",
   "metadata": {},
   "outputs": [
    {
     "name": "stdout",
     "output_type": "stream",
     "text": [
      "a    1\n",
      "b    2\n",
      "c    3\n",
      "dtype: int64\n",
      "<class 'pandas.core.series.Series'>\n"
     ]
    },
    {
     "name": "stderr",
     "output_type": "stream",
     "text": [
      "C:\\Users\\Antidote21\\AppData\\Local\\Temp\\ipykernel_30232\\3556044538.py:9: FutureWarning: Series.__getitem__ treating keys as positions is deprecated. In a future version, integer keys will always be treated as labels (consistent with DataFrame behavior). To access a value by position, use `ser.iloc[pos]`\n",
      "  sr[0]\n"
     ]
    },
    {
     "data": {
      "text/plain": [
       "1"
      ]
     },
     "execution_count": 16,
     "metadata": {},
     "output_type": "execute_result"
    }
   ],
   "source": [
    "import pandas as pd\n",
    "\n",
    "dict_data = {'a': 1, 'b': 2, 'c': 3}\n",
    "\n",
    "# Series(데이터, 인덱스(행의 이름표))\n",
    "sr = pd.Series(dict_data)\n",
    "print(sr)\n",
    "print(type(sr))"
   ]
  },
  {
   "cell_type": "code",
   "execution_count": 34,
   "id": "42245b76-771e-4970-b05d-ba0bd9d9dd5e",
   "metadata": {},
   "outputs": [
    {
     "name": "stdout",
     "output_type": "stream",
     "text": [
      "RangeIndex(start=0, stop=4, step=1)\n",
      "['2024-08-22' 10 'apple' True]\n"
     ]
    }
   ],
   "source": [
    "# 리스트로 시리즈 만들기(기본 인덱스 0, 1...)\n",
    "list_data = ['2024-08-22', 10, 'apple', True]\n",
    "\n",
    "sr = pd.Series(list_data)\n",
    "print(sr.index) #인덱스 출력 \n",
    "print(sr.values) #데이터 자료(값)"
   ]
  },
  {
   "cell_type": "code",
   "execution_count": 80,
   "id": "e882914a-5a78-4d26-91d8-5dc58b248f48",
   "metadata": {},
   "outputs": [
    {
     "name": "stdout",
     "output_type": "stream",
     "text": [
      "2018    143\n",
      "2019    150\n",
      "2020    157\n",
      "2021    160\n",
      "Name: Height, dtype: int64\n",
      "150\n",
      "150\n",
      "150\n"
     ]
    }
   ],
   "source": [
    "import pandas as pd\n",
    "\n",
    "height = [143, 150, 157, 160]\n",
    "index=[\"2018\", \"2019\", \"2020\", \"2021\"]\n",
    "# 인덱스를 지정한 경우\n",
    "growth = pd.Series(height, index=index, name='Height')\n",
    "print(growth)\n",
    "print(growth[\"2019\"])\n",
    "# Loc[행(문자)], iloc[인덱스(숫자)]\n",
    "print(growth.loc['2019'])\n",
    "print(growth.iloc[1])"
   ]
  },
  {
   "cell_type": "code",
   "execution_count": 84,
   "id": "82d27eb5-0b0e-4310-8ac6-0f24371c2de2",
   "metadata": {},
   "outputs": [
    {
     "name": "stdout",
     "output_type": "stream",
     "text": [
      "밀가루     4 cups\n",
      "우유       1 cup\n",
      "계란     1 large\n",
      "참치캔      1 can\n",
      "Name: Dinner, dtype: object\n"
     ]
    }
   ],
   "source": [
    "# 실습1\n",
    "index = [\"밀가루\", \"우유\", \"계란\", \"참치캔\"]\n",
    "capacity =[\"4 cups\", \"1 cup\", \"1 large\", \"1 can\"]\n",
    "ingredients = pd.Series(capacity, index=index, name='Dinner')\n",
    "print(ingredients)\n"
   ]
  },
  {
   "cell_type": "code",
   "execution_count": null,
   "id": "aa331cc6-fba5-4306-831e-ffd4b7c7b567",
   "metadata": {},
   "outputs": [],
   "source": []
  }
 ],
 "metadata": {
  "kernelspec": {
   "display_name": "Python 3 (ipykernel)",
   "language": "python",
   "name": "python3"
  },
  "language_info": {
   "codemirror_mode": {
    "name": "ipython",
    "version": 3
   },
   "file_extension": ".py",
   "mimetype": "text/x-python",
   "name": "python",
   "nbconvert_exporter": "python",
   "pygments_lexer": "ipython3",
   "version": "3.12.4"
  }
 },
 "nbformat": 4,
 "nbformat_minor": 5
}
