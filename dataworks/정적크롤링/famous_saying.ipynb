{
 "cells": [
  {
   "cell_type": "code",
   "execution_count": 34,
   "metadata": {},
   "outputs": [
    {
     "name": "stdout",
     "output_type": "stream",
     "text": [
      "[<small class=\"author\" itemprop=\"author\">Albert Einstein</small>, <small class=\"author\" itemprop=\"author\">J.K. Rowling</small>, <small class=\"author\" itemprop=\"author\">Albert Einstein</small>, <small class=\"author\" itemprop=\"author\">Jane Austen</small>, <small class=\"author\" itemprop=\"author\">Marilyn Monroe</small>, <small class=\"author\" itemprop=\"author\">Albert Einstein</small>, <small class=\"author\" itemprop=\"author\">André Gide</small>, <small class=\"author\" itemprop=\"author\">Thomas A. Edison</small>, <small class=\"author\" itemprop=\"author\">Eleanor Roosevelt</small>, <small class=\"author\" itemprop=\"author\">Steve Martin</small>]\n",
      "['Albert Einstein', 'J.K. Rowling', 'Albert Einstein', 'Jane Austen', 'Marilyn Monroe', 'Albert Einstein', 'André Gide', 'Thomas A. Edison', 'Eleanor Roosevelt', 'Steve Martin']\n",
      "['/author/Albert-Einstein', '/author/J-K-Rowling', '/author/Albert-Einstein', '/author/Jane-Austen', '/author/Marilyn-Monroe', '/author/Albert-Einstein', '/author/Andre-Gide', '/author/Thomas-A-Edison', '/author/Eleanor-Roosevelt', '/author/Steve-Martin']\n"
     ]
    }
   ],
   "source": [
    "import requests as req\n",
    "from bs4 import BeautifulSoup\n",
    "\n",
    "url = \"https://quotes.toscrape.com/\"\n",
    "res = req.get(url)\n",
    "# print(res.text)\n",
    "\n",
    "html = BeautifulSoup(res.text, 'html.parser')\n",
    "\n",
    "# quote_div = html.find_all('div', class_=\"quote\")\n",
    "# print(quote_div)\n",
    "\n",
    "# quote_span = html.find_all('span', class_ = \"text\")\n",
    "# print(quote_span)\n",
    "\n",
    "quote_text = html.select('div.quote > span.text')\n",
    "# print(quote_text)\n",
    "# print(len(quote_text))\n",
    "# print(quote_text[0].text)\n",
    "\n",
    "# for quote in quote_text:\n",
    "#     print(quote.text)\n",
    "\n",
    "# 리스트 내포\n",
    "'''\n",
    "a = []\n",
    "for i in quote_text:\n",
    "    a.append(i.text)\n",
    "print(a)\n",
    "'''\n",
    "# lis = [i.text for i in quote_text]\n",
    "\n",
    "# 명언 말한 사람\n",
    "quote_author = html.select('div.quote > span > small.author')\n",
    "print(quote_author)\n",
    "\n",
    "authors = [author.text for author in quote_author]\n",
    "print(authors)\n",
    "\n",
    "# 말한 사람 링크 \n",
    "quote_link = html.select('div.quote > span > a')\n",
    "# print(quote_link)\n",
    "# print(quote_link[0]['href'])\n",
    "links = [link['href'] for link in quote_link]\n",
    "print(links)"
   ]
  },
  {
   "cell_type": "code",
   "execution_count": null,
   "metadata": {},
   "outputs": [],
   "source": []
  }
 ],
 "metadata": {
  "kernelspec": {
   "display_name": "Python 3",
   "language": "python",
   "name": "python3"
  },
  "language_info": {
   "codemirror_mode": {
    "name": "ipython",
    "version": 3
   },
   "file_extension": ".py",
   "mimetype": "text/x-python",
   "name": "python",
   "nbconvert_exporter": "python",
   "pygments_lexer": "ipython3",
   "version": "3.12.4"
  }
 },
 "nbformat": 4,
 "nbformat_minor": 2
}
