{
 "cells": [
  {
   "cell_type": "markdown",
   "id": "7fa0a7cd-3512-4a03-ba00-55e8a8db2492",
   "metadata": {},
   "source": [
    "#### 네이버 블로그 데이터 수집하기"
   ]
  },
  {
   "cell_type": "code",
   "execution_count": 28,
   "id": "26267b68-cd76-4147-8eee-6d83f64e5f7e",
   "metadata": {},
   "outputs": [
    {
     "name": "stdout",
     "output_type": "stream",
     "text": [
      "https://openapi.naver.com/v1/search/blog?query=spreatics2\n",
      "{'lastBuildDate': 'Fri, 23 Aug 2024 19:20:57 +0900', 'total': 11, 'start': 1, 'display': 10, 'items': [{'title': '[포스코x코딩온] 포스코와 함께하는 웹 개발자 부트캠프 9기... ', 'link': 'https://blog.naver.com/spreatics2/223341764368', 'description': 'com/<b>spreatics2</b>/223338312218 이 게시글을 참고해 주세요  웹 9기의 수료식도 크게 1. 롤링 페이퍼 및 소감 발표 2. 수료증 수여 및 단체 사진 촬영 순서로 진행되었는데요 웹 9기분들도 정말 귀엽게... ', 'bloggername': '코딩온 공식블로그', 'bloggerlink': 'blog.naver.com/spreatics2', 'postdate': '20240202'}, {'title': '[코딩온] 전 직원 해외 워크샵 2탄(아이슬란드편) / 폭설에 조난... ', 'link': 'https://blog.naver.com/spreatics2/223358536115', 'description': '12기(~2/19)가 수료 후 전원 일본 IT Show 여행을 보내주는 것을 알고계셨나요?? 혹시 흥미가 있으시다면... com/<b>spreatics2</b>/223355784114 셋째날에는 시내를 구경하기로 하였는데요! 아이슬란드 수도인 레이캬비크로... ', 'bloggername': '코딩온 공식블로그', 'bloggerlink': 'blog.naver.com/spreatics2', 'postdate': '20240219'}, {'title': '[포스코x코딩온] 포스코와 함께하는 웹 개발자 부트캠프 8기... ', 'link': 'https://blog.naver.com/spreatics2/223338312218', 'description': '롤링 페이퍼 및 소감 발표 2. 수료증 수여 및 단체 사진 촬영 순서로 진행되었습니다!! 다들... https://blog.naver.com/<b>spreatics2</b>/223305465858 열심히 수료식을 진행해 주시는 CREW리더님.. 그리고 수료식... ', 'bloggername': '코딩온 공식블로그', 'bloggerlink': 'blog.naver.com/spreatics2', 'postdate': '20240130'}, {'title': '[코딩온] 전 직원 해외 워크샵 1탄(아이슬란드편) / 디지털... ', 'link': 'https://blog.naver.com/spreatics2/223355784114', 'description': '12기(~2/19)가 수료 후 전원 일본 IT Show 여행을 보내주는 것을 알고계셨나요?? 혹시 흥미가 있으시다면... - 아이슬란드 2편 - https://blog.naver.com/<b>spreatics2</b>/223358536115 한국에서 아이슬란드까지는 직항이 없어 다들... ', 'bloggername': '코딩온 공식블로그', 'bloggerlink': 'blog.naver.com/spreatics2', 'postdate': '20240216'}, {'title': '[코딩온 후기] 다들 비추천하는 개발자 국비교육을 두 번이나?... ', 'link': 'https://blog.naver.com/spreatics2/223296303897', 'description': '새싹 수료식 살펴보기 https://blog.naver.com/<b>spreatics2</b>/223318243444 ☁️ 웹 개발자 후기 살펴보기 https://blog.naver.com/<b>spreatics2</b>/223325481188 코딩온 크루들의 다양한 후기 둘러보기 ♀️개발자 취업을 향한 도전!... ', 'bloggername': '코딩온 공식블로그', 'bloggerlink': 'blog.naver.com/spreatics2', 'postdate': '20231218'}, {'title': '[포스코x코딩온-스마트팩토리 개발자 2기] 교육장 탐방', 'link': 'https://blog.naver.com/spreatics2/223108847566', 'description': '포스코DX에 최종 합격한 스마트팩토리 1기 박지원 CREW의 인터뷰 글을 마지막으로 포스팅 마무리 할게요 https://blog.naver.com/<b>spreatics2</b>/223100456056 ▲ 박지원 CREW의 포스코DX 취업 성공 인터뷰 보러가기 ▲', 'bloggername': '코딩온 공식블로그', 'bloggerlink': 'blog.naver.com/spreatics2', 'postdate': '20230522'}, {'title': '[코딩온 홈페이지 만들기 #5] html 제목', 'link': 'https://blog.naver.com/spreatics2/222346500859', 'description': '홈페이지 만들기 4탄에서 알아보았던 서식을 이용해 다양하게 꾸며 예쁜 홈페이지로 만들어보세요~ https://blog.naver.com/<b>spreatics2</b>/222345112416 오늘 정보도 유익하셨나요? #코딩온 #온라인 강의를 수강하시면... ', 'bloggername': '코딩온 공식블로그', 'bloggerlink': 'blog.naver.com/spreatics2', 'postdate': '20210511'}, {'title': '서울특별시 전액국비지원 서울형 청년인턴 직무캠프 웹(Web)개발', 'link': 'https://blog.naver.com/youni7505/222315145596', 'description': '맞춤형 실무 교육, 인성 교육 - 프로젝트를 통한 실무 역량 강화 ○ 활동혜택 - 국비지원 무료교육, 인턴십 기회 ○ 접수방법 - 홈페이지 접수 ○ 문의 - (주)스프레틱스 : 02-6953-2751 / ****@*********.***', 'bloggername': '평범한 세상 살기', 'bloggerlink': 'blog.naver.com/youni7505', 'postdate': '20210419'}, {'title': '[K-Digital Training] POSCO x CODINGOn 웹개발자 양성... ', 'link': 'https://blog.naver.com/youthzone_db/222725925308', 'description': '컨설팅 ▷지원하는 방법 - 온라인 신청 1) 코딩온 홈페이지 : https://codingon.co.kr/pr/kdt/miniintern <b>2</b>) 구글폼 신청서 작성 : https://bit.ly/3rY1FKe ▷ 문의처 - 전화 : ***-****-**** - 메일 : ****@*********.***', 'bloggername': '무중력지대 대방동', 'bloggerlink': 'blog.naver.com/youthzone_db', 'postdate': '20220509'}, {'title': '[K-Digital Training] POSCO x CODINGOn 웹개발자 양성... ', 'link': 'https://blog.naver.com/yongsanyouthspace/222725963429', 'description': '컨설팅 ▷지원하는 방법 - 온라인 신청 1) 코딩온 홈페이지 : https://codingon.co.kr/pr/kdt/miniintern <b>2</b>) 구글폼 신청서 작성 : https://bit.ly/3rY1FKe ▷ 문의처 - 전화 : ***-****-**** - 메일 : ****@*********.***', 'bloggername': '용산 청년지음', 'bloggerlink': 'blog.naver.com/yongsanyouthspace', 'postdate': '20220509'}]}\n"
     ]
    }
   ],
   "source": [
    "# 네이버 검색 API 예제 - 블로그 검색\n",
    "import urllib.request\n",
    "import json\n",
    "\n",
    "client_id = \"dvoiX8llQL8S3TTYCOul\"\n",
    "client_secret = \"nj8UbPpNJj\"\n",
    "encText = urllib.parse.quote(\"spreatics2\")\n",
    "url = \"https://openapi.naver.com/v1/search/blog?query=\" + encText # JSON 결과\n",
    "# url = \"https://openapi.naver.com/v1/search/blog.xml?query=\" + encText # XML 결과\n",
    "print(url)\n",
    "\n",
    "request = urllib.request.Request(url) # 요청\n",
    "request.add_header(\"X-Naver-Client-Id\",client_id)\n",
    "request.add_header(\"X-Naver-Client-Secret\",client_secret)\n",
    "\n",
    "response = urllib.request.urlopen(request) #응답\n",
    "rescode = response.getcode()\n",
    "if(rescode==200):\n",
    "    response_body = response.read()\n",
    "    # print(response_body.decode('utf-8')) #해독 - 사람이 볼 수 있는 언어\n",
    "    result = json.loads(response_body.decode('utf-8'))\n",
    "else:\n",
    "    print(\"Error Code:\" + rescode)\n",
    "print(result)\n"
   ]
  },
  {
   "cell_type": "code",
   "execution_count": 60,
   "id": "3af77f97-16ec-4667-9e3b-94d6aa96c8f2",
   "metadata": {},
   "outputs": [
    {
     "name": "stdout",
     "output_type": "stream",
     "text": [
      "{'title': '[포스코x코딩온] 포스코와 함께하는 웹 개발자 부트캠프 9기... ', 'link': 'https://blog.naver.com/spreatics2/223341764368', 'description': 'com/<b>spreatics2</b>/223338312218 이 게시글을 참고해 주세요  웹 9기의 수료식도 크게 1. 롤링 페이퍼 및 소감 발표 2. 수료증 수여 및 단체 사진 촬영 순서로 진행되었는데요 웹 9기분들도 정말 귀엽게... ', 'bloggername': '코딩온 공식블로그', 'bloggerlink': 'blog.naver.com/spreatics2', 'postdate': '20240202'}\n",
      "[포스코x코딩온] 포스코와 함께하는 웹 개발자 부트캠프 9기... \n",
      "com/<b>spreatics2</b>/223338312218 이 게시글을 참고해 주세요  웹 9기의 수료식도 크게 1. 롤링 페이퍼 및 소감 발표 2. 수료증 수여 및 단체 사진 촬영 순서로 진행되었는데요 웹 9기분들도 정말 귀엽게... \n"
     ]
    }
   ],
   "source": [
    "result['display']\n",
    "result['lastBuildDate']\n",
    "print(result['items'][0])\n",
    "print(result['items'][0]['title'])\n",
    "print(result['items'][0]['description'])"
   ]
  },
  {
   "cell_type": "markdown",
   "id": "a50c8271-a811-4e23-adec-b155369b32c6",
   "metadata": {},
   "source": [
    "#### 네이버 도서 자료 수집하기"
   ]
  },
  {
   "cell_type": "code",
   "execution_count": 126,
   "id": "e74e7a1b-fa62-4467-a159-962f12665edf",
   "metadata": {},
   "outputs": [
    {
     "name": "stdout",
     "output_type": "stream",
     "text": [
      "{'lastBuildDate': 'Fri, 23 Aug 2024 19:50:49 +0900', 'total': 1030, 'start': 1, 'display': 10, 'items': [{'title': '엑셀X파이썬 (엑셀이 파이썬을 품었다)', 'link': 'https://search.shopping.naver.com/book/catalog/49255941621', 'image': 'https://shopping-phinf.pstatic.net/main_4925594/49255941621.20240720092116.jpg', 'author': '정성일', 'discount': '22500', 'publisher': '길벗', 'pubdate': '20240730', 'isbn': '9791140710195', 'description': '엑셀이 파이썬을 품었다\\n\\nMS 365 엑셀에 파이썬을 통합하는 강력한 기능이 업데이트되었다. 이제 엑셀의 셀에 ‘=PY’ 함수를 입력하면 파이썬 코드를 직접 실행할 수 있다. 별도의 라이브러리 설치 없이 복잡한 차트 생성과 데이터 분석을 엑셀에서 손쉽게 수행할 수 있다. 이 책은 엑셀에서 파이썬을 사용하는 기본적인 방법부터 다양한 파이썬 라이브러리를 활용하여 주식 시세 분석, 알고리즘 구현 등 주요 데이터 분석 및 시각화 라이브러리를 제대로 활용하는 방법을 소개한다. 엑셀과 파이썬의 조합으로 빅데이터 시대에 걸맞는 데이터 분석 경쟁력을 한층 더 강화할 수 있을 것이다.\\n\\n엑셀에서 파이썬을!\\n파이썬 코드를 엑셀 함수처럼!\\n\\n엑셀이 파이썬을 품었다. MS 365 엑셀의 업데이트로 엑셀 시트에서 직접 데이터를 선택하여 셀에 파이썬 코드를 입력하면 결과를 바로 확인할 수 있습니다. 이제 엑셀에서 파이썬을 엑셀 함수처럼 사용해 보세요. 라이브러리를 추가로 설치하거나 충돌을 걱정할 필요도 없습니다. 엑셀 파이썬을 활용하면 주식 시세 데이터를 이동 평균선 등으로 시각화하거나 데이터 분석 알고리즘을 사용해 가상 매매 프로그램을 만들어 수익률을 검증하고 투자 전략을 보완할 수 있습니다. 의사결정나무, 이상 탐지 등 검증된 파이썬 라이브러리로 알고리즘을 간단하게 구현할 수 있습니다.'}, {'title': '혼자 공부하는 파이썬 (1:1 과외하듯 배우는 프로그래밍 자습서)', 'link': 'https://search.shopping.naver.com/book/catalog/32507605957', 'image': 'https://shopping-phinf.pstatic.net/main_3250760/32507605957.20230509170119.jpg', 'author': '윤인성', 'discount': '19800', 'publisher': '한빛미디어', 'pubdate': '20220601', 'isbn': '9791162245651', 'description': '혼자 해도 충분하다! 1:1 과외하듯 배우는 파이썬 프로그래밍 자습서\\n\\n『혼자 공부하는 파이썬』이 더욱 흥미있고 알찬 내용으로 개정되었습니다. 프로그래밍이 정말 처음인 입문자도 따라갈 수 있는 친절한 설명과 단계별 학습은 그대로! 혼자 공부하더라도 체계적으로 계획을 세워 학습할 수 있도록 ‘혼공 계획표’를 새롭게 추가했습니다. 또한 입문자가 자주 물어보는 질문과 오류 해결 방법을 적재적소에 배치하여 예상치 못한 문제에 부딪혀도 좌절하지 않고 끝까지 완독할 수 있도록 도와줍니다. 단순한 문법 암기와 코딩 따라하기에 지쳤다면, 새로운 혼공파와 함께 ‘누적 예제’와 ‘도전 문제’로 프로그래밍의 신세계를 경험해 보세요! 배운 내용을 씹고 뜯고 맛보고 즐기다 보면 응용력은 물론 알고리즘 사고력까지 키워 코딩 실력이 쑥쑥 성장할 것입니다.\\n\\n이 책은 독학으로 파이썬을 배우는 입문자가 ‘꼭 필요한 내용을 제대로 학습’할 수 있도록 구성했습니다. 뭘 모르는지조차 모르는 입문자의 막연한 마음에 십분 공감하여 과외 선생님이 알려주듯 친절하게, 핵심적인 내용만 콕콕 집어줍니다. 책의 첫 페이지를 펼쳐서 마지막 페이지를 덮을 때까지, 혼자서도 충분히 파이썬을 배울 수 있다는 자신감과 확신이 계속될 것입니다!\\n\\n베타리더와 함께 입문자에게 맞는 난이도, 분량, 학습 요소 등을 적극 반영했습니다. 어려운 용어와 개념은 한 번 더 풀어쓰고, 복잡한 설명은 눈에 잘 들어오는 그림으로 풀어냈습니다. ‘혼자 공부해 본’ 여러 입문자의 초심과 눈높이가 책 곳곳에 반영된 것이 이 책의 가장 큰 장점입니다.'}, {'title': 'Do it! 점프 투 파이썬 (중학생도 첫날부터 실습하는 초고속 입문서)', 'link': 'https://search.shopping.naver.com/book/catalog/40354085633', 'image': 'https://shopping-phinf.pstatic.net/main_4035408/40354085633.20230927071024.jpg', 'author': '박응용', 'discount': '19800', 'publisher': '이지스퍼블리싱', 'pubdate': '20230615', 'isbn': '9791163034735', 'description': '프로그래밍 분야 8년 연속 베스트셀러!\\n《Do it! 점프 투 파이썬》 전면 개정 2판 출시!\\n\\n중고등학생도, 비전공자도, 직장인도 프로그래밍에 눈뜨게 만든 바로 그 책이 전면 개정 2판으로 새롭게 태어났다! 챗GPT를 시작으로 펼쳐진 생성 AI 시대에 맞춰 설명과 예제를 다듬고, 최신 경향과 심화 내용을 보충했다. 또한 이번 개정 2판도 50만 코딩 유튜버인 조코딩과 협업을 통해 유튜브 동영상을 제공해 파이썬을 더 쉽게 공부할 수 있다.\\n\\n8년 연속 베스트셀러! 위키독스 누적 방문 300만! 독자의 입에서 입으로 전해진 추천과 수많은 대학 및 학원의 교재 채택을 통해 검증은 이미 끝났다. 코딩을 처음 배우는 중고등학생부터 코딩 소양을 기르려는 비전공자, 자기계발에 진심인 직장인까지! 이 책과 함께 파이썬 프로그래밍의 세계로 ‘점프’해 보자!'}, {'title': '커리어 스킬업 파이썬 업무 자동화 (일잘러를 위한 파이썬 기초와 웹 크롤링 강의)', 'link': 'https://search.shopping.naver.com/book/catalog/48518927623', 'image': 'https://shopping-phinf.pstatic.net/main_4851892/48518927623.20240618091417.jpg', 'author': '손원준', 'discount': '23400', 'publisher': '길벗', 'pubdate': '20240620', 'isbn': '9791140713899', 'description': '반복되는 업무를 파이썬으로 자동화해 보세요!\\n똑똑하게 일하는 일잘러가 될 수 있습니다.\\n\\n코딩은 이제 선택이 아니라 필수입니다. ‘전공자가 아닌데 코딩을 배워야 하나?’, ‘파이썬이 내 업무와 대체 무슨 관련이 있을까?’라고 반문하는 사람도 막상 파이썬을 배우면 업무의 많은 부분을 자동화할 수 있다는 걸 알게 됩니다. 이 책은 코딩을 아예 모르는 초보자도 배울 수 있도록 파이썬 기초부터 시작해 웹 크롤링과 업무 자동화까지 단계적으로 설명합니다. 업무 자동화의 신세계를 만나고 싶다면 이 책으로 시작하세요! \\n\\n〈주요 내용〉\\n1. 파이썬 설치와 기초 문법 \\n2. 웹 크롤링으로 원하는 데이터 수집하는 방법 \\n3. API를 이용한 자동화 프로그램 만들기\\n4. 엑셀 작업 자동화하기'}, {'title': '파이썬', 'link': 'https://search.shopping.naver.com/book/catalog/32438172833', 'image': 'https://shopping-phinf.pstatic.net/main_3243817/32438172833.20230920072917.jpg', 'author': '김영천', 'discount': '24500', 'publisher': '기한재', 'pubdate': '20200225', 'isbn': '9788970187990', 'description': '▶ 이 책은 Python(파이썬)을 다룬 이론서입니다. Python(파이썬)의 기초적이고 전반적인 내용을 학습할 수 있습니다.'}, {'title': '파이썬 + AI (코드조각과 실행화면으로 배우는 코딩)', 'link': 'https://search.shopping.naver.com/book/catalog/48703888619', 'image': 'https://shopping-phinf.pstatic.net/main_4870388/48703888619.20240627091044.jpg', 'author': '안용제^김남규', 'discount': '25200', 'publisher': '디지털북스', 'pubdate': '20240715', 'isbn': '9788960884571', 'description': '“코드조각과 실행화면을 통해, 단계적 반복을 통해 배우는 파이썬과 AI”\\n\\n이 책은 프로그래밍 언어에 익숙한 프로그래머가 아닌 프로그램 입문자들을 대상으로 프로그래밍에 대해 아무런 지식이 없다고 가정하고 프로그램 코딩을 가르치기 위해 작성되었습니다. 이 책을 통해 코딩 개요, Python 기초, numpy, matplotlib, pandas 그리고 머신러닝/딥러닝 퀵스타트 등 Python의 전반을 한 권으로 학습할 수 있습니다.\\n또한 코드조각이라고 부르는 프로그램 코딩에 대한 예제를 설명을 위한 주축으로 사용합니다. 그래서 코드조각을 먼저 이해하려고 노력한 후 코드조각을 실행하여 얻게 되는 실행화면을 통해, 코딩의 결과를 바로바로 확인할 수 있도록 하였습니다. 코드조각을 컴퓨터에 입력하여 실행시켜 보면서 프로그램의 수행 결과를 자세히 관찰하고, 프로그램 코드를 한 줄씩 따라가면서 변수와 객체 등 컴퓨터 저장 공간의 변화를 함께 따라가 보면 어느새 파이썬과 AI 코딩을 능숙하게 활용할 수 있을 것입니다.'}, {'title': 'CODING BASICS PYTHON (파이썬)', 'link': 'https://search.shopping.naver.com/book/catalog/32440944646', 'image': 'https://shopping-phinf.pstatic.net/main_3244094/32440944646.20230509164030.jpg', 'author': '김상민^장성식^김일태', 'discount': '18000', 'publisher': '렉스미디어닷넷', 'pubdate': '20220210', 'isbn': '9788959604210', 'description': '파이썬으로 다지는 프로그래밍의 기초\\n\\nㆍ 다양한 예제를 활용하여 초보자도 쉽게 프로그래밍의 기본을 익힐 수 있는 파이썬 입문서입니다.\\nㆍ 문법을 사전식으로 나열하지 않고 기능적인 프로그램을 하나씩 완성하면서 익힐 수 있게 구성했습니다.\\nㆍ 단계별로 완성하는 장별 예제 및 연습문제를 바탕으로 자신만의 프로그램을 완성할 수 있습니다.'}, {'title': '파이썬', 'link': 'https://search.shopping.naver.com/book/catalog/32489150082', 'image': 'https://shopping-phinf.pstatic.net/main_3248915/32489150082.20230207165503.jpg', 'author': '천인국', 'discount': '10800', 'publisher': '인피니티북스', 'pubdate': '20170830', 'isbn': '9791185578330', 'description': '컴퓨팅 사고(Computational Thinking)는 자넷 윙 교수가 2006년에 컴퓨터 학술지에서 언급한 이후로 컴퓨터 교육 분야에서 상당한 이슈가 되고 있는 용어이다. 컴퓨팅 사고는 복잡한 문제를 분해하여 문제 안에 내재된 패턴을 찾고 추상화 단계를 거쳐서 문제를 해결하는 알고리즘을 작성하는 과정이다. 작성된 알고리즘은 사람이 수행하거나 컴퓨터를 이용하여 자동화될 수 있다. \\n이 책은 컴퓨팅 사고와 파이썬을 동시에 학습할 수 있도록 기획되었다. 파이썬은 컴퓨터를 전공하지 않은 학생들도 쉽게 사용할 수 있다는 큰 장점이 있다. 컴퓨팅 사고는 흥미로운 실습 예제가 많이 필요하다. 이 책에서는 최대한 많은 실습 예제를 간추려서 파이썬으로 실습할 수 있도록 하였다. 파이썬은 다양한 애니메이션이나 가상 실습을 만들 수 있는 최적의 도구이다. 학생들은 파이썬을 통하여 컴퓨터 프로그래밍의 기본적인 개념들과 컴퓨팅 사고에서 나타나는 다양한 실습을 수행할 수 있을 것이다.'}, {'title': '파이썬 (비전공자를위한 파이썬 기초 입문서)', 'link': 'https://search.shopping.naver.com/book/catalog/32436003648', 'image': 'https://shopping-phinf.pstatic.net/main_3243600/32436003648.20230920072841.jpg', 'author': '김명호', 'discount': '16200', 'publisher': '에듀웨이', 'pubdate': '20190525', 'isbn': '9791186179369', 'description': '막막했던 파이썬, 이제 한 권으로 기초를 배우는\\n파이썬 사용 설명서!\\n\\n전 세계적으로 유명한 구글(Google)이 자신의 많은 서비스를 파이썬으로 제공하고 있습니다. 이것은 구글의 뛰어난 서비스를 개인의 비즈니스에 쉽게 이용할 수 있다는 의미입니다.  이러한 발전에 맞춰 파이썬 문법의 기초를 쉽게 이해할 수 있도록 이 책에서는 친절한 도해와 함께 코딩 개념을 설명합니다. 파이썬을 처음 배우는 학생부터 비전공자, 코딩 실력을 높이려는 직장인까지 기본 문법부터 예제를 통한 활용 실력을 높여 파이썬 프로그래밍을 마스터할 수 있습니다. 가장 쉽고, 빠르게, 효율적인 파이썬 사용 설명서! ‘한 권으로 끝내는 파이썬’에서 찾아보세요.'}, {'title': '파이썬', 'link': 'https://search.shopping.naver.com/book/catalog/32460987987', 'image': 'https://shopping-phinf.pstatic.net/main_3246098/32460987987.20230207163755.jpg', 'author': '홍의경', 'discount': '29440', 'publisher': '생능출판', 'pubdate': '20220309', 'isbn': '9788970506784', 'description': '코딩 실력을 키우는 지름길은 실습이다.\\n\\n2008년 즈음에 검인정 중학교 교과서 정보1, 정보2, 정보3을 공저로 저술하였습니다. 그 당시에 8종류의 교과서가 검인정에 합격하였는데, 파이썬을 기반으로 하는 교과서가 2종류, C언어를 기반으로 하는 교과서가 2종류, 베이직을 기반으로 하는 교과서가 2종류, 스크래치를 기반으로 하는 교과서가 2종류였습니다.\\n\\n교육용 언어로 시작한 파이썬이 중학교 학생들이 비교적 쉽게 학습할 수 있는 프로그래밍 언어라고 생각했는데 10여년의 세월이 흐른 지금 파이썬이 활용되는 분야가 가히 폭발적으로 증가하였습니다. \\n\\n파이썬에 관한 쉽고 좋은 교재를 저술하기 위해서 인터넷에서 30,000페이지 이상의 자료를 찾아서 검토하였습니다. 어쩌면 파이썬이 첫 프로그래밍 언어일 본 교재의 독자들이 두려움 없이 파이썬을 기초부터 쉽게 공부하다가, 교재를 다 읽고 나면 “어느새 중급 수준에 도달했구나”라는 생각이 들도록  완성도 높은 교재를 목표로 하였습니다. \\n\\n입문자를 대상으로 하는 교재일수록 집필하는데 훨씬 더 많은 정성과 노력이 필요하다는 것을 잘 알고 있습니다. 개인적으로는 데이터베이스 전공교재를 저술할 때보다 몇 배 더 힘들었고, 공을 많이 들였습니다. \\n\\n원고를 버전 9까지 작성하는 동안 셀 수 없이 원고를 읽어보면서 꼭 필요하지 않은 문장은 삭제하고, 필요한 문장은 반드시 넣었습니다. 고등학교 검인정 교과서 1권, 중학교 검인정 교과서 3권, 데이터베이스 전공 교재 2권, 엑셀 교재 1권, 번역서 2권을 집필하면서 나름대로 한글을 정확하고 간결하게 표현하는데 자신이 있습니다.'}]}\n"
     ]
    }
   ],
   "source": [
    "# 네이버 검색 API 예제 - 블로그 검색\n",
    "import urllib.request\n",
    "import json\n",
    "\n",
    "def create_url(api_node, search_text, start_num, disp_num):\n",
    "    base = \"https://openapi.naver.com/v1/search/\"\n",
    "    node = api_node + \".json\"\n",
    "    param_query = \"?query=\" + urllib.parse.quote(search_text)\n",
    "    param_start = \"&start=\" + str(start_num)\n",
    "    param_disp = \"&start=\" + str(disp_num)\n",
    "    return base + node + param_query + param_start + param_disp\n",
    "\n",
    "url = create_url('book', '파이썬', 1, 5)\n",
    "\n",
    "# 네이버 api 등록 정보\n",
    "client_id = \"dvoiX8llQL8S3TTYCOul\"\n",
    "client_secret = \"nj8UbPpNJj\"\n",
    "\n",
    "# 네이버 api 등록 정보\n",
    "# encText = urllib.parse.quote(\"spreatics2\")\n",
    "# url = \"https://openapi.naver.com/v1/search/blog?query=\" + encText # JSON 결과\n",
    "# url = \"https://openapi.naver.com/v1/search/blog.xml?query=\" + encText # XML 결과\n",
    "# print(url)\n",
    "\n",
    "#요청 \n",
    "request = urllib.request.Request(url) # 요청\n",
    "request.add_header(\"X-Naver-Client-Id\",client_id)\n",
    "request.add_header(\"X-Naver-Client-Secret\",client_secret)\n",
    "\n",
    "#응답 \n",
    "response = urllib.request.urlopen(request) #응답\n",
    "rescode = response.getcode()\n",
    "if(rescode==200):\n",
    "    response_body = response.read()\n",
    "    # print(response_body.decode('utf-8')) #해독 - 사람이 볼 수 있는 언어\n",
    "    result = json.loads(response_body.decode('utf-8'))\n",
    "else:\n",
    "    print(\"Error Code:\" + rescode)\n",
    "print(result)"
   ]
  },
  {
   "cell_type": "code",
   "execution_count": 152,
   "id": "c6bc20fe-e725-43dc-9e89-e5e35e60c0b6",
   "metadata": {},
   "outputs": [
    {
     "name": "stdout",
     "output_type": "stream",
     "text": [
      "엑셀X파이썬 (엑셀이 파이썬을 품었다)\n",
      "혼자 공부하는 파이썬 (1:1 과외하듯 배우는 프로그래밍 자습서)\n",
      "Do it! 점프 투 파이썬 (중학생도 첫날부터 실습하는 초고속 입문서)\n",
      "커리어 스킬업 파이썬 업무 자동화 (일잘러를 위한 파이썬 기초와 웹 크롤링 강의)\n",
      "파이썬\n"
     ]
    },
    {
     "data": {
      "text/html": [
       "<div>\n",
       "<style scoped>\n",
       "    .dataframe tbody tr th:only-of-type {\n",
       "        vertical-align: middle;\n",
       "    }\n",
       "\n",
       "    .dataframe tbody tr th {\n",
       "        vertical-align: top;\n",
       "    }\n",
       "\n",
       "    .dataframe thead th {\n",
       "        text-align: right;\n",
       "    }\n",
       "</style>\n",
       "<table border=\"1\" class=\"dataframe\">\n",
       "  <thead>\n",
       "    <tr style=\"text-align: right;\">\n",
       "      <th></th>\n",
       "      <th>제목</th>\n",
       "      <th>저자</th>\n",
       "      <th>출판사</th>\n",
       "    </tr>\n",
       "  </thead>\n",
       "  <tbody>\n",
       "    <tr>\n",
       "      <th>0</th>\n",
       "      <td>엑셀X파이썬 (엑셀이 파이썬을 품었다)</td>\n",
       "      <td>정성일</td>\n",
       "      <td>길벗</td>\n",
       "    </tr>\n",
       "    <tr>\n",
       "      <th>1</th>\n",
       "      <td>혼자 공부하는 파이썬 (1:1 과외하듯 배우는 프로그래밍 자습서)</td>\n",
       "      <td>윤인성</td>\n",
       "      <td>한빛미디어</td>\n",
       "    </tr>\n",
       "    <tr>\n",
       "      <th>2</th>\n",
       "      <td>Do it! 점프 투 파이썬 (중학생도 첫날부터 실습하는 초고속 입문서)</td>\n",
       "      <td>박응용</td>\n",
       "      <td>이지스퍼블리싱</td>\n",
       "    </tr>\n",
       "    <tr>\n",
       "      <th>3</th>\n",
       "      <td>커리어 스킬업 파이썬 업무 자동화 (일잘러를 위한 파이썬 기초와 웹 크롤링 강의)</td>\n",
       "      <td>손원준</td>\n",
       "      <td>길벗</td>\n",
       "    </tr>\n",
       "    <tr>\n",
       "      <th>4</th>\n",
       "      <td>파이썬</td>\n",
       "      <td>김영천</td>\n",
       "      <td>기한재</td>\n",
       "    </tr>\n",
       "  </tbody>\n",
       "</table>\n",
       "</div>"
      ],
      "text/plain": [
       "                                              제목   저자      출판사\n",
       "0                          엑셀X파이썬 (엑셀이 파이썬을 품었다)  정성일       길벗\n",
       "1           혼자 공부하는 파이썬 (1:1 과외하듯 배우는 프로그래밍 자습서)  윤인성    한빛미디어\n",
       "2       Do it! 점프 투 파이썬 (중학생도 첫날부터 실습하는 초고속 입문서)  박응용  이지스퍼블리싱\n",
       "3  커리어 스킬업 파이썬 업무 자동화 (일잘러를 위한 파이썬 기초와 웹 크롤링 강의)  손원준       길벗\n",
       "4                                            파이썬  김영천      기한재"
      ]
     },
     "execution_count": 152,
     "metadata": {},
     "output_type": "execute_result"
    }
   ],
   "source": [
    "import pandas as pd\n",
    "result['items'][0]\n",
    "# print(result['items'][0]['title'])\n",
    "for i in range(5):\n",
    "    print(result['items'][i]['title'])\n",
    "\n",
    "title = [result['items'][i]['title'] for i in range(5)]\n",
    "# print(title)\n",
    "author = [result['items'][i]['author'] for i in range(5)]\n",
    "# print(author)\n",
    "publisher = [result['items'][i]['publisher'] for i in range(5)]\n",
    "# print(publisher)\n",
    "\n",
    "# DataFrame 생성\n",
    "python_book = pd.DataFrame({\n",
    "    '제목': title,\n",
    "    '저자': author,\n",
    "    '출판사': publisher\n",
    "})\n",
    "python_book"
   ]
  },
  {
   "cell_type": "code",
   "execution_count": null,
   "id": "322c2e39-1f4e-4700-b486-b4bb957508fc",
   "metadata": {},
   "outputs": [],
   "source": [
    "# import urllib.request\n",
    "# import json\n",
    "# def create_url(api_node, search_text, start_num, disp_num):\n",
    "#     base = \"https://openapi.naver.com/v1/search/\"\n",
    "#     node = api_node + \".json\"\n",
    "#     param_query = \"?query=\" + urllib.parse.quote(search_text)\n",
    "#     param_start = \"&start=\" + str(start_num)\n",
    "#     param_disp = \"&display=\" + str(disp_num)\n",
    "#     return base + node + param_query + param_start + param_disp\n",
    "# url = create_url('book', '파이썬', 1, 5) # 호출\n",
    "# # 네이버 api 등록 정보\n",
    "# client_id = \"kfaf6Epnpmm8TOjR3RGj\"\n",
    "# client_secret = \"nc3v9jisp5\"\n",
    "# #요청\n",
    "# request = urllib.request.Request(url)\n",
    "# request.add_header(\"X-Naver-Client-Id\",client_id)\n",
    "# request.add_header(\"X-Naver-Client-Secraet\",client_secret)\n",
    "# #응답\n",
    "# response = urllib.request.urlopen(request)\n",
    "# rescode = response.getcode()\n",
    "# if(rescode==200):\n",
    "#     response_body = response.read()\n",
    "#     result = json.loads(response_body.decode('utf-8'))\n",
    "# else:\n",
    "#     print(\"Error Code:\" + rescode)\n",
    "# print(result)"
   ]
  },
  {
   "cell_type": "code",
   "execution_count": 205,
   "id": "b8697340-e3dc-40b8-9bdb-bdadbbbca3ef",
   "metadata": {},
   "outputs": [
    {
     "data": {
      "text/html": [
       "<div>\n",
       "<style scoped>\n",
       "    .dataframe tbody tr th:only-of-type {\n",
       "        vertical-align: middle;\n",
       "    }\n",
       "\n",
       "    .dataframe tbody tr th {\n",
       "        vertical-align: top;\n",
       "    }\n",
       "\n",
       "    .dataframe thead th {\n",
       "        text-align: right;\n",
       "    }\n",
       "</style>\n",
       "<table border=\"1\" class=\"dataframe\">\n",
       "  <thead>\n",
       "    <tr style=\"text-align: right;\">\n",
       "      <th></th>\n",
       "      <th>책제목</th>\n",
       "      <th>작가</th>\n",
       "      <th>출판사</th>\n",
       "    </tr>\n",
       "    <tr>\n",
       "      <th>도서번호</th>\n",
       "      <th></th>\n",
       "      <th></th>\n",
       "      <th></th>\n",
       "    </tr>\n",
       "  </thead>\n",
       "  <tbody>\n",
       "    <tr>\n",
       "      <th>1</th>\n",
       "      <td>엑셀X파이썬 (엑셀이 파이썬을 품었다)</td>\n",
       "      <td>정성일</td>\n",
       "      <td>길벗</td>\n",
       "    </tr>\n",
       "    <tr>\n",
       "      <th>2</th>\n",
       "      <td>혼자 공부하는 파이썬 (1:1 과외하듯 배우는 프로그래밍 자습서)</td>\n",
       "      <td>윤인성</td>\n",
       "      <td>한빛미디어</td>\n",
       "    </tr>\n",
       "    <tr>\n",
       "      <th>3</th>\n",
       "      <td>Do it! 점프 투 파이썬 (중학생도 첫날부터 실습하는 초고속 입문서)</td>\n",
       "      <td>박응용</td>\n",
       "      <td>이지스퍼블리싱</td>\n",
       "    </tr>\n",
       "    <tr>\n",
       "      <th>4</th>\n",
       "      <td>커리어 스킬업 파이썬 업무 자동화 (일잘러를 위한 파이썬 기초와 웹 크롤링 강의)</td>\n",
       "      <td>손원준</td>\n",
       "      <td>길벗</td>\n",
       "    </tr>\n",
       "    <tr>\n",
       "      <th>5</th>\n",
       "      <td>파이썬</td>\n",
       "      <td>김영천</td>\n",
       "      <td>기한재</td>\n",
       "    </tr>\n",
       "  </tbody>\n",
       "</table>\n",
       "</div>"
      ],
      "text/plain": [
       "                                                책제목   작가      출판사\n",
       "도서번호                                                             \n",
       "1                             엑셀X파이썬 (엑셀이 파이썬을 품었다)  정성일       길벗\n",
       "2              혼자 공부하는 파이썬 (1:1 과외하듯 배우는 프로그래밍 자습서)  윤인성    한빛미디어\n",
       "3          Do it! 점프 투 파이썬 (중학생도 첫날부터 실습하는 초고속 입문서)  박응용  이지스퍼블리싱\n",
       "4     커리어 스킬업 파이썬 업무 자동화 (일잘러를 위한 파이썬 기초와 웹 크롤링 강의)  손원준       길벗\n",
       "5                                               파이썬  김영천      기한재"
      ]
     },
     "execution_count": 205,
     "metadata": {},
     "output_type": "execute_result"
    }
   ],
   "source": [
    "# 실습 3\n",
    "import pandas as pd\n",
    "\n",
    "no = list(range(1,6))\n",
    "title = [result['items'][i]['title'] for i in range(5)]\n",
    "author = [result['items'][i]['author'] for i in range(5)]\n",
    "publisher = [result['items'][i]['publisher'] for i in range(5)]\n",
    "\n",
    "# DataFrame 생성\n",
    "python_book = pd.DataFrame({\n",
    "    '도서번호': no,\n",
    "    '책제목': title,\n",
    "    '작가': author,\n",
    "    '출판사': publisher\n",
    "})\n",
    "python_book = python_book.set_index('도서번호')\n",
    "python_book.to_csv('python_book.csv',  encoding='utf-8')\n",
    "read_python_book = pd.read_csv('python_book.csv', index_col=0)\n",
    "read_python_book"
   ]
  },
  {
   "cell_type": "code",
   "execution_count": null,
   "id": "7698238c-952a-4329-8a32-7836f03ce783",
   "metadata": {},
   "outputs": [],
   "source": []
  }
 ],
 "metadata": {
  "kernelspec": {
   "display_name": "Python 3 (ipykernel)",
   "language": "python",
   "name": "python3"
  },
  "language_info": {
   "codemirror_mode": {
    "name": "ipython",
    "version": 3
   },
   "file_extension": ".py",
   "mimetype": "text/x-python",
   "name": "python",
   "nbconvert_exporter": "python",
   "pygments_lexer": "ipython3",
   "version": "3.12.4"
  }
 },
 "nbformat": 4,
 "nbformat_minor": 5
}
