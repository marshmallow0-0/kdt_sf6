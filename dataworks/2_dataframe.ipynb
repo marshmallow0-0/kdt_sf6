{
 "cells": [
  {
   "cell_type": "markdown",
   "id": "e9a4aad0-646a-4af2-9f77-241db6baf885",
   "metadata": {},
   "source": [
    "##### pandas - DataFrame 클래스 : 행(row)과 열(column)로 이루어진 2차원 리스트이다."
   ]
  },
  {
   "cell_type": "code",
   "execution_count": 10,
   "id": "4a044979-c0bd-44be-9d18-3d9b30e52905",
   "metadata": {},
   "outputs": [
    {
     "data": {
      "text/html": [
       "<div>\n",
       "<style scoped>\n",
       "    .dataframe tbody tr th:only-of-type {\n",
       "        vertical-align: middle;\n",
       "    }\n",
       "\n",
       "    .dataframe tbody tr th {\n",
       "        vertical-align: top;\n",
       "    }\n",
       "\n",
       "    .dataframe thead th {\n",
       "        text-align: right;\n",
       "    }\n",
       "</style>\n",
       "<table border=\"1\" class=\"dataframe\">\n",
       "  <thead>\n",
       "    <tr style=\"text-align: right;\">\n",
       "      <th></th>\n",
       "      <th>영희</th>\n",
       "      <th>철수</th>\n",
       "    </tr>\n",
       "  </thead>\n",
       "  <tbody>\n",
       "    <tr>\n",
       "      <th>2018</th>\n",
       "      <td>143</td>\n",
       "      <td>165</td>\n",
       "    </tr>\n",
       "    <tr>\n",
       "      <th>2019</th>\n",
       "      <td>150</td>\n",
       "      <td>172</td>\n",
       "    </tr>\n",
       "    <tr>\n",
       "      <th>2020</th>\n",
       "      <td>157</td>\n",
       "      <td>175</td>\n",
       "    </tr>\n",
       "    <tr>\n",
       "      <th>2021</th>\n",
       "      <td>160</td>\n",
       "      <td>180</td>\n",
       "    </tr>\n",
       "  </tbody>\n",
       "</table>\n",
       "</div>"
      ],
      "text/plain": [
       "       영희   철수\n",
       "2018  143  165\n",
       "2019  150  172\n",
       "2020  157  175\n",
       "2021  160  180"
      ]
     },
     "execution_count": 10,
     "metadata": {},
     "output_type": "execute_result"
    }
   ],
   "source": [
    "import pandas as pd\n",
    "# 1.시리즈 결합해서 데이터프레임 만들기\n",
    "index=[\"2018\", \"2019\", \"2020\", \"2021\"]\n",
    "\n",
    "younghee = pd.Series([143, 150, 157, 160], index=index)\n",
    "cheolsu = pd.Series([165, 172, 175, 180], index=index)\n",
    "\n",
    "growth = pd.DataFrame({\n",
    "    '영희': younghee,\n",
    "    '철수': cheolsu\n",
    "})\n",
    "\n",
    "growth"
   ]
  },
  {
   "cell_type": "code",
   "execution_count": 4,
   "id": "545840e8-586b-4565-b0b7-20bb8a9fe911",
   "metadata": {},
   "outputs": [
    {
     "data": {
      "text/html": [
       "<div>\n",
       "<style scoped>\n",
       "    .dataframe tbody tr th:only-of-type {\n",
       "        vertical-align: middle;\n",
       "    }\n",
       "\n",
       "    .dataframe tbody tr th {\n",
       "        vertical-align: top;\n",
       "    }\n",
       "\n",
       "    .dataframe thead th {\n",
       "        text-align: right;\n",
       "    }\n",
       "</style>\n",
       "<table border=\"1\" class=\"dataframe\">\n",
       "  <thead>\n",
       "    <tr style=\"text-align: right;\">\n",
       "      <th></th>\n",
       "      <th>영희</th>\n",
       "      <th>철수</th>\n",
       "    </tr>\n",
       "  </thead>\n",
       "  <tbody>\n",
       "    <tr>\n",
       "      <th>2018</th>\n",
       "      <td>143</td>\n",
       "      <td>165</td>\n",
       "    </tr>\n",
       "    <tr>\n",
       "      <th>2019</th>\n",
       "      <td>150</td>\n",
       "      <td>172</td>\n",
       "    </tr>\n",
       "    <tr>\n",
       "      <th>2020</th>\n",
       "      <td>157</td>\n",
       "      <td>175</td>\n",
       "    </tr>\n",
       "    <tr>\n",
       "      <th>2021</th>\n",
       "      <td>160</td>\n",
       "      <td>180</td>\n",
       "    </tr>\n",
       "  </tbody>\n",
       "</table>\n",
       "</div>"
      ],
      "text/plain": [
       "       영희   철수\n",
       "2018  143  165\n",
       "2019  150  172\n",
       "2020  157  175\n",
       "2021  160  180"
      ]
     },
     "execution_count": 4,
     "metadata": {},
     "output_type": "execute_result"
    }
   ],
   "source": [
    "# 2차원 리스트 데이터로 프레임 만들기\n",
    "import pandas as pd\n",
    "\n",
    "data = [[143, 165], [150, 172], [157, 175], [160, 180]]\n",
    "index = [\"2018\", \"2019\", \"2020\", \"2021\"]\n",
    "\n",
    "growth = pd.DataFrame(data, columns=['영희', '철수'], index=index)\n",
    "growth"
   ]
  },
  {
   "cell_type": "code",
   "execution_count": 66,
   "id": "e21490a2-228e-4aef-8b50-adaa829cdc65",
   "metadata": {},
   "outputs": [
    {
     "name": "stdout",
     "output_type": "stream",
     "text": [
      "       영희   철수   시현\n",
      "2018  143  165  103\n",
      "2019  150  172  166\n",
      "2021  160  180  105\n",
      "2022  162  181  172\n",
      "       영희   시현\n",
      "2018  143  103\n",
      "2019  150  166\n",
      "2020  157  266\n",
      "2021  160  105\n",
      "2022  162  172\n"
     ]
    }
   ],
   "source": [
    "import pandas as pd\n",
    "# 1.시리즈 결합해서 데이터프레임 만들기\n",
    "index=[\"2018\", \"2019\", \"2020\", \"2021\"]\n",
    "\n",
    "data = {\n",
    "    '영희' : [143, 150, 157, 160],\n",
    "    '철수' : [165, 172, 175, 180],\n",
    "}\n",
    "\n",
    "growth = pd.DataFrame(data, index=index)\n",
    "# growth.to_csv('./datas/growth.csv')\n",
    "\n",
    "# csv 파일 읽기 - to_read_csv(경로)\n",
    "# growth = pd.read_csv('./datas/growth.csv', index_col = 0)\n",
    "# print(growth)\n",
    "# print(growth.columns) # 칼럼\n",
    "# print(growth.values)  # 값\n",
    "\n",
    "# 열 선택\n",
    "# print(growth['철수'])\n",
    "\n",
    "# 열 이름 출력 \n",
    "# print(growth[['철수']])\n",
    "# print(growth[['영희', '철수']])\n",
    "\n",
    "# 행 선택\n",
    "# Loc[행(문자)], iloc[인덱스(숫자)]\n",
    "# print(growth.loc['2020'])\n",
    "# print(growth.iloc[2])\n",
    "\n",
    "# 다중 행 선택\n",
    "# print(growth.loc[['2020', '2021']])\n",
    "# print(growth.iloc[[2, 3]])\n",
    "# print(growth.iloc[2:4])\n",
    "\n",
    "# 열 추가 - 시현\n",
    "growth[\"시현\"] = [103, 166, 266, 105]\n",
    "# print(growth)\n",
    "\n",
    "# 행 추가 2022년\n",
    "growth.loc['2022'] = [162, 181, 172]\n",
    "# print(growth)\n",
    "\n",
    "\n",
    "# 행 삭제 - 2020년\n",
    "# 복사 - 원본 유지 (깊은 복사 - 원본과 별도로 삭제, 수정) - copy()\n",
    "growth2 = growth.copy()\n",
    "growth2 = growth.drop('2020', axis=0) #행 삭제\n",
    "print(growth2)\n",
    "\n",
    "# 열 삭제 - '철수' 삭제\n",
    "growth3 = growth.copy()\n",
    "growth3 = growth3.drop('철수', axis=1)\n",
    "print(growth3)"
   ]
  },
  {
   "cell_type": "code",
   "execution_count": 80,
   "id": "cebd3dcf-f76d-47bd-8a86-40f2ed4b330c",
   "metadata": {},
   "outputs": [
    {
     "name": "stdout",
     "output_type": "stream",
     "text": [
      "[1, 10, 3, 4] [1, 10, 3, 4]\n",
      "[1, 2, 3, 4] [1, 10, 3, 4]\n"
     ]
    }
   ],
   "source": [
    "# 얕은 목사와 깊은 복사\n",
    "# 얕은 복사 - 복사본을 수정하면 원본도 수정된다.\n",
    "# 깊은 복사 - 복사본을 수정해도 원본은 유지된다. copy()\n",
    "a = [1, 2, 3, 4]\n",
    "a\n",
    "b = a # a리스트에 b에 저장함\n",
    "b\n",
    "b[1] = 10\n",
    "print(a, b)\n",
    "\n",
    "# 깊은 복사 \n",
    "c = [1, 2, 3, 4]\n",
    "c\n",
    "d = c.copy()\n",
    "d\n",
    "d[1] = 10\n",
    "print(c, d)"
   ]
  },
  {
   "cell_type": "code",
   "execution_count": 12,
   "id": "01fca730-336e-4410-8257-929cf3f2cdfe",
   "metadata": {},
   "outputs": [
    {
     "name": "stdout",
     "output_type": "stream",
     "text": [
      "재천    90\n",
      "선영    80\n",
      "Name: 국어, dtype: int64\n",
      "    수학  영어\n",
      "재천  98  85\n",
      "선영  89  95\n"
     ]
    }
   ],
   "source": [
    "import pandas as pd\n",
    "\n",
    "score = {\n",
    "    '국어' : [90, 80],\n",
    "    '수학' : [98, 89],\n",
    "    '영어' : [85, 95]\n",
    "}\n",
    "\n",
    "df = pd.DataFrame(score, index=['재천', '선영'])\n",
    "\n",
    "\n",
    "print(df['국어'])\n",
    "print(df[['수학', '영어']])"
   ]
  },
  {
   "cell_type": "code",
   "execution_count": 98,
   "id": "c23da40b-f265-4868-aa77-5382602e9b16",
   "metadata": {},
   "outputs": [
    {
     "name": "stdout",
     "output_type": "stream",
     "text": [
      "   이름  국어  수학   영어\n",
      "0  재천  90  80   85\n",
      "1  선영  80  75   95\n",
      "2  일성  70  95  100\n",
      "   이름  국어  수학   영어\n",
      "0  재천  90  80   85\n",
      "1  선영  80  75   95\n",
      "2  일성  70  95  100\n",
      "3  윤아  75  80   90\n",
      "   이름  국어  수학   영어  음악\n",
      "0  재천  90  80   85  80\n",
      "1  선영  80  75   95  80\n",
      "2  일성  70  95  100  80\n",
      "3  윤아  75  80   90  80\n",
      "   이름  국어  수학   영어  음악   미술\n",
      "0  재천  90  80   85  80   80\n",
      "1  선영  80  75   95  80   90\n",
      "2  일성  70  95  100  80  100\n",
      "3  윤아  75  80   90  80   70\n"
     ]
    }
   ],
   "source": [
    "score = {\n",
    "    '이름' : ['재천', '선영', '일성'],\n",
    "    '국어' : [90,80,70],\n",
    "    '수학' : [80,75,95],\n",
    "    '영어' : [85, 95, 100]\n",
    "}\n",
    "\n",
    "df = pd.DataFrame(score)\n",
    "print(df)\n",
    "\n",
    "# 새로운 행 추가 \n",
    "df.loc[3] = ['윤아', 75, 80, 90]\n",
    "print(df)\n",
    "\n",
    "# 열추가\n",
    "df['음악'] = 80\n",
    "print(df)\n",
    "df['미술'] = [80,90,100,70]\n",
    "print(df)"
   ]
  },
  {
   "cell_type": "code",
   "execution_count": 126,
   "id": "b461a137-6ccc-4115-8a86-d6d135fcaf5c",
   "metadata": {},
   "outputs": [
    {
     "name": "stdout",
     "output_type": "stream",
     "text": [
      "       영희   철수\n",
      "2018  143  165\n",
      "2019  150  172\n",
      "2020  157  175\n",
      "2021  160  180\n",
      "175\n",
      "175\n"
     ]
    }
   ],
   "source": [
    "import pandas as pd\n",
    "data = {\n",
    "    '영희' : [143, 150, 157, 160],\n",
    "    '철수' : [165, 172, 175, 180],\n",
    "}\n",
    "\n",
    "growth = pd.DataFrame(data, index=index)\n",
    "print(growth)\n",
    "\n",
    "# 특정 요소 1개 선택\n",
    "# Loc[행(문자), 열(문자)], iloc[행(숫자), 열(숫자)]\n",
    "print(growth.loc['2020', '철수'])\n",
    "print(growth.iloc[2, 1])"
   ]
  },
  {
   "cell_type": "code",
   "execution_count": 146,
   "id": "ee2fc051-1913-4247-b764-896830aae6c3",
   "metadata": {},
   "outputs": [
    {
     "name": "stdout",
     "output_type": "stream",
     "text": [
      "    국어  수학   영어\n",
      "재천  90  80   85\n",
      "선영  80  75   95\n",
      "일성  70  95  100\n"
     ]
    }
   ],
   "source": [
    "# 실습2 데이터 프레임 만들기\n",
    "import pandas as pd\n",
    "\n",
    "score = {\n",
    "    '국어' : [90, 80, 70],\n",
    "    '수학' : [80, 75, 95],\n",
    "    '영어' : [85, 95, 100]\n",
    "}\n",
    "\n",
    "subject = pd.DataFrame(score, index=['재천', '선영', '일성'])\n",
    "print(subject)"
   ]
  },
  {
   "cell_type": "code",
   "execution_count": 186,
   "id": "b2cac791-02ef-4e3d-bd34-d7d72e8b9d7f",
   "metadata": {},
   "outputs": [
    {
     "name": "stdout",
     "output_type": "stream",
     "text": [
      "    국어  수학   영어\n",
      "재천  90  80   85\n",
      "선영  80  75   95\n",
      "일성  70  95  100\n",
      "    국어  수학   영어\n",
      "재천  90  80   85\n",
      "선영  80  75   95\n",
      "일성  70  95  100\n",
      "윤아  75  80   90\n"
     ]
    }
   ],
   "source": [
    "# 실습2 데이터 프레임 만들기\n",
    "import pandas as pd\n",
    "\n",
    "score = {\n",
    "    '국어' : [90, 80, 70],\n",
    "    '수학' : [80, 75, 95],\n",
    "    '영어' : [85, 95, 100]\n",
    "}\n",
    "\n",
    "subject = pd.DataFrame(score, index=['재천', '선영', '일성'])\n",
    "print(subject)\n",
    "\n",
    "# 행 추가 - 2022년\n",
    "\n",
    "subject.loc['윤아'] = [75, 80, 90]\n",
    "print(subject)"
   ]
  },
  {
   "cell_type": "code",
   "execution_count": 89,
   "id": "8382a35a-9bbe-4102-a914-0897d00ea4fc",
   "metadata": {},
   "outputs": [
    {
     "name": "stdout",
     "output_type": "stream",
     "text": [
      "       영희   철수\n",
      "연도            \n",
      "2018  143  165\n",
      "2019  150  172\n",
      "2020  157  175\n",
      "2021  160  180\n"
     ]
    }
   ],
   "source": [
    "import pandas as pd\n",
    "\n",
    "# 인덱스를 칼럼이름으로 설정하기 \n",
    "data = {\n",
    "    '연도' : [\"2018\", \"2019\", \"2020\", \"2021\"],\n",
    "    '영희' : [143, 150, 157, 160],\n",
    "    '철수' : [165, 172, 175, 180],\n",
    "}\n",
    "\n",
    "growth = pd.DataFrame(data)\n",
    "growth = growth.set_index('연도')\n",
    "print(growth)\n"
   ]
  }
 ],
 "metadata": {
  "kernelspec": {
   "display_name": "Python 3 (ipykernel)",
   "language": "python",
   "name": "python3"
  },
  "language_info": {
   "codemirror_mode": {
    "name": "ipython",
    "version": 3
   },
   "file_extension": ".py",
   "mimetype": "text/x-python",
   "name": "python",
   "nbconvert_exporter": "python",
   "pygments_lexer": "ipython3",
   "version": "3.12.4"
  }
 },
 "nbformat": 4,
 "nbformat_minor": 5
}
